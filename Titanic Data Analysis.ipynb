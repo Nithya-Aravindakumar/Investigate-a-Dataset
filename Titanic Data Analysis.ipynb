{
 "cells": [
  {
   "cell_type": "markdown",
   "metadata": {},
   "source": [
    "### Project: Investigate a Dataset"
   ]
  },
  {
   "cell_type": "markdown",
   "metadata": {},
   "source": [
    "# Analysis of Titanic Data"
   ]
  },
  {
   "cell_type": "markdown",
   "metadata": {},
   "source": [
    "## Introduction"
   ]
  },
  {
   "cell_type": "markdown",
   "metadata": {},
   "source": [
    "The sinking of the RMS Titanic is one of the most infamous shipwrecks in history.  On April 15, 1912, during her maiden voyage, the Titanic sank after colliding with an iceberg, killing 1502 out of 2224 passengers and crew.\n",
    "\n",
    "One of the reasons that the shipwreck led to such loss of life was that there were not enough lifeboats for the passengers and crew. Although there was some element of luck involved in surviving the sinking, some groups of people were more likely to survive than others, such as women, children, and the upper-class.\n",
    "\n",
    "This project is an analysis of the given titanic dataset which contains demographics and passenger information from 891 of the 2224 passengers and crew on board the Titanic.  "
   ]
  },
  {
   "cell_type": "markdown",
   "metadata": {},
   "source": [
    "## Question Phase"
   ]
  },
  {
   "cell_type": "markdown",
   "metadata": {},
   "source": [
    "These are the questions that I wish to answer using the data:\n",
    "\n",
    "1. What is the percentage of people who survived?\n",
    "2. What is the percentage of male and female passengers?\n",
    "3. What is the percentage of passengers in each class?\n",
    "4. What is the percentage of men and women travelling from different classes?\n",
    "5. What is the percentage of passengers travelling with different numbers of siblings/spouse?\n",
    "6. What is the percentage of passengers travelling with different numbers of parents/children?\n",
    "7. What is the percentage of passengers travelling with different numbers of relatives?\n",
    "8. What is the number of people travelling with relatives from different classes?\n",
    "9. What is the percentage of people who boarded at different ports?\n",
    "10. What is the port of embarkation of people belonging to different classes?\n",
    "11. How does fare vary with variables like gender, class and port of embarkation?\n",
    "12. Who are the people who travelled free of charge? Which class do they belong to? What is their port of embarkation? What were their chances of survival? How many men and women? Did they have relatives aboard or they travelled alone?\n",
    "13. What factors made people more likely to survive?\n",
    "Survival chances based on:\n",
    "  a.\tFare\n",
    "  b.\tGender\n",
    "  c.\tClass\n",
    "  d.\tNumber of siblings and spouse onboard\n",
    "  e.\tNumber of parents and children onboard\n",
    "  f.\tNumber of relatives\n",
    "  g.\tAge group\n",
    "14. What is the percentage of people belonging to different age groups?\n",
    "15. What is the average age of males and females?\n",
    "16. What is the average number of relatives who travelled with people of different age groups?\n",
    "17. Comparison of average number of parents/children and siblings/spouse who travelled with people of different age groups.\n",
    "18. What is the mean fare paid by people belonging to different age groups?\n",
    "19. What is the average age of people from different classes?\t\n",
    "20. What is the number of people of different age groups in different classes?\n",
    "21. What is the average fare based on age group and class?\n"
   ]
  },
  {
   "cell_type": "markdown",
   "metadata": {},
   "source": [
    "### Acquiring data"
   ]
  },
  {
   "cell_type": "code",
   "execution_count": 1,
   "metadata": {
    "scrolled": false
   },
   "outputs": [
    {
     "data": {
      "text/html": [
       "<div>\n",
       "<style>\n",
       "    .dataframe thead tr:only-child th {\n",
       "        text-align: right;\n",
       "    }\n",
       "\n",
       "    .dataframe thead th {\n",
       "        text-align: left;\n",
       "    }\n",
       "\n",
       "    .dataframe tbody tr th {\n",
       "        vertical-align: top;\n",
       "    }\n",
       "</style>\n",
       "<table border=\"1\" class=\"dataframe\">\n",
       "  <thead>\n",
       "    <tr style=\"text-align: right;\">\n",
       "      <th></th>\n",
       "      <th>PassengerId</th>\n",
       "      <th>Survived</th>\n",
       "      <th>Pclass</th>\n",
       "      <th>Name</th>\n",
       "      <th>Sex</th>\n",
       "      <th>Age</th>\n",
       "      <th>SibSp</th>\n",
       "      <th>Parch</th>\n",
       "      <th>Ticket</th>\n",
       "      <th>Fare</th>\n",
       "      <th>Cabin</th>\n",
       "      <th>Embarked</th>\n",
       "    </tr>\n",
       "  </thead>\n",
       "  <tbody>\n",
       "    <tr>\n",
       "      <th>0</th>\n",
       "      <td>1</td>\n",
       "      <td>0</td>\n",
       "      <td>3</td>\n",
       "      <td>Braund, Mr. Owen Harris</td>\n",
       "      <td>male</td>\n",
       "      <td>22.0</td>\n",
       "      <td>1</td>\n",
       "      <td>0</td>\n",
       "      <td>A/5 21171</td>\n",
       "      <td>7.2500</td>\n",
       "      <td>NaN</td>\n",
       "      <td>S</td>\n",
       "    </tr>\n",
       "    <tr>\n",
       "      <th>1</th>\n",
       "      <td>2</td>\n",
       "      <td>1</td>\n",
       "      <td>1</td>\n",
       "      <td>Cumings, Mrs. John Bradley (Florence Briggs Th...</td>\n",
       "      <td>female</td>\n",
       "      <td>38.0</td>\n",
       "      <td>1</td>\n",
       "      <td>0</td>\n",
       "      <td>PC 17599</td>\n",
       "      <td>71.2833</td>\n",
       "      <td>C85</td>\n",
       "      <td>C</td>\n",
       "    </tr>\n",
       "    <tr>\n",
       "      <th>2</th>\n",
       "      <td>3</td>\n",
       "      <td>1</td>\n",
       "      <td>3</td>\n",
       "      <td>Heikkinen, Miss. Laina</td>\n",
       "      <td>female</td>\n",
       "      <td>26.0</td>\n",
       "      <td>0</td>\n",
       "      <td>0</td>\n",
       "      <td>STON/O2. 3101282</td>\n",
       "      <td>7.9250</td>\n",
       "      <td>NaN</td>\n",
       "      <td>S</td>\n",
       "    </tr>\n",
       "    <tr>\n",
       "      <th>3</th>\n",
       "      <td>4</td>\n",
       "      <td>1</td>\n",
       "      <td>1</td>\n",
       "      <td>Futrelle, Mrs. Jacques Heath (Lily May Peel)</td>\n",
       "      <td>female</td>\n",
       "      <td>35.0</td>\n",
       "      <td>1</td>\n",
       "      <td>0</td>\n",
       "      <td>113803</td>\n",
       "      <td>53.1000</td>\n",
       "      <td>C123</td>\n",
       "      <td>S</td>\n",
       "    </tr>\n",
       "    <tr>\n",
       "      <th>4</th>\n",
       "      <td>5</td>\n",
       "      <td>0</td>\n",
       "      <td>3</td>\n",
       "      <td>Allen, Mr. William Henry</td>\n",
       "      <td>male</td>\n",
       "      <td>35.0</td>\n",
       "      <td>0</td>\n",
       "      <td>0</td>\n",
       "      <td>373450</td>\n",
       "      <td>8.0500</td>\n",
       "      <td>NaN</td>\n",
       "      <td>S</td>\n",
       "    </tr>\n",
       "    <tr>\n",
       "      <th>5</th>\n",
       "      <td>6</td>\n",
       "      <td>0</td>\n",
       "      <td>3</td>\n",
       "      <td>Moran, Mr. James</td>\n",
       "      <td>male</td>\n",
       "      <td>NaN</td>\n",
       "      <td>0</td>\n",
       "      <td>0</td>\n",
       "      <td>330877</td>\n",
       "      <td>8.4583</td>\n",
       "      <td>NaN</td>\n",
       "      <td>Q</td>\n",
       "    </tr>\n",
       "    <tr>\n",
       "      <th>6</th>\n",
       "      <td>7</td>\n",
       "      <td>0</td>\n",
       "      <td>1</td>\n",
       "      <td>McCarthy, Mr. Timothy J</td>\n",
       "      <td>male</td>\n",
       "      <td>54.0</td>\n",
       "      <td>0</td>\n",
       "      <td>0</td>\n",
       "      <td>17463</td>\n",
       "      <td>51.8625</td>\n",
       "      <td>E46</td>\n",
       "      <td>S</td>\n",
       "    </tr>\n",
       "    <tr>\n",
       "      <th>7</th>\n",
       "      <td>8</td>\n",
       "      <td>0</td>\n",
       "      <td>3</td>\n",
       "      <td>Palsson, Master. Gosta Leonard</td>\n",
       "      <td>male</td>\n",
       "      <td>2.0</td>\n",
       "      <td>3</td>\n",
       "      <td>1</td>\n",
       "      <td>349909</td>\n",
       "      <td>21.0750</td>\n",
       "      <td>NaN</td>\n",
       "      <td>S</td>\n",
       "    </tr>\n",
       "    <tr>\n",
       "      <th>8</th>\n",
       "      <td>9</td>\n",
       "      <td>1</td>\n",
       "      <td>3</td>\n",
       "      <td>Johnson, Mrs. Oscar W (Elisabeth Vilhelmina Berg)</td>\n",
       "      <td>female</td>\n",
       "      <td>27.0</td>\n",
       "      <td>0</td>\n",
       "      <td>2</td>\n",
       "      <td>347742</td>\n",
       "      <td>11.1333</td>\n",
       "      <td>NaN</td>\n",
       "      <td>S</td>\n",
       "    </tr>\n",
       "    <tr>\n",
       "      <th>9</th>\n",
       "      <td>10</td>\n",
       "      <td>1</td>\n",
       "      <td>2</td>\n",
       "      <td>Nasser, Mrs. Nicholas (Adele Achem)</td>\n",
       "      <td>female</td>\n",
       "      <td>14.0</td>\n",
       "      <td>1</td>\n",
       "      <td>0</td>\n",
       "      <td>237736</td>\n",
       "      <td>30.0708</td>\n",
       "      <td>NaN</td>\n",
       "      <td>C</td>\n",
       "    </tr>\n",
       "  </tbody>\n",
       "</table>\n",
       "</div>"
      ],
      "text/plain": [
       "   PassengerId  Survived  Pclass  \\\n",
       "0            1         0       3   \n",
       "1            2         1       1   \n",
       "2            3         1       3   \n",
       "3            4         1       1   \n",
       "4            5         0       3   \n",
       "5            6         0       3   \n",
       "6            7         0       1   \n",
       "7            8         0       3   \n",
       "8            9         1       3   \n",
       "9           10         1       2   \n",
       "\n",
       "                                                Name     Sex   Age  SibSp  \\\n",
       "0                            Braund, Mr. Owen Harris    male  22.0      1   \n",
       "1  Cumings, Mrs. John Bradley (Florence Briggs Th...  female  38.0      1   \n",
       "2                             Heikkinen, Miss. Laina  female  26.0      0   \n",
       "3       Futrelle, Mrs. Jacques Heath (Lily May Peel)  female  35.0      1   \n",
       "4                           Allen, Mr. William Henry    male  35.0      0   \n",
       "5                                   Moran, Mr. James    male   NaN      0   \n",
       "6                            McCarthy, Mr. Timothy J    male  54.0      0   \n",
       "7                     Palsson, Master. Gosta Leonard    male   2.0      3   \n",
       "8  Johnson, Mrs. Oscar W (Elisabeth Vilhelmina Berg)  female  27.0      0   \n",
       "9                Nasser, Mrs. Nicholas (Adele Achem)  female  14.0      1   \n",
       "\n",
       "   Parch            Ticket     Fare Cabin Embarked  \n",
       "0      0         A/5 21171   7.2500   NaN        S  \n",
       "1      0          PC 17599  71.2833   C85        C  \n",
       "2      0  STON/O2. 3101282   7.9250   NaN        S  \n",
       "3      0            113803  53.1000  C123        S  \n",
       "4      0            373450   8.0500   NaN        S  \n",
       "5      0            330877   8.4583   NaN        Q  \n",
       "6      0             17463  51.8625   E46        S  \n",
       "7      1            349909  21.0750   NaN        S  \n",
       "8      2            347742  11.1333   NaN        S  \n",
       "9      0            237736  30.0708   NaN        C  "
      ]
     },
     "metadata": {},
     "output_type": "display_data"
    }
   ],
   "source": [
    "import unicodecsv\n",
    "import numpy as np\n",
    "import pandas as pd\n",
    "import matplotlib.pyplot as plt\n",
    "import seaborn as sns\n",
    "%matplotlib inline\n",
    "\n",
    "passengers = pd.read_csv('titanic-data.csv')\n",
    "\n",
    "display(passengers.head(10))\n"
   ]
  },
  {
   "cell_type": "markdown",
   "metadata": {},
   "source": [
    "From the above table, we observe that the entries in the ticket column is a combination of letters, symbols and numbers which are not consistent through out the column. We also notice that there are missing entries in age and cabin columns. Now, to check if the other columns have all entries filled:"
   ]
  },
  {
   "cell_type": "code",
   "execution_count": 2,
   "metadata": {
    "scrolled": false
   },
   "outputs": [
    {
     "name": "stdout",
     "output_type": "stream",
     "text": [
      "<class 'pandas.core.frame.DataFrame'>\n",
      "RangeIndex: 891 entries, 0 to 890\n",
      "Data columns (total 12 columns):\n",
      "PassengerId    891 non-null int64\n",
      "Survived       891 non-null int64\n",
      "Pclass         891 non-null int64\n",
      "Name           891 non-null object\n",
      "Sex            891 non-null object\n",
      "Age            714 non-null float64\n",
      "SibSp          891 non-null int64\n",
      "Parch          891 non-null int64\n",
      "Ticket         891 non-null object\n",
      "Fare           891 non-null float64\n",
      "Cabin          204 non-null object\n",
      "Embarked       889 non-null object\n",
      "dtypes: float64(2), int64(5), object(5)\n",
      "memory usage: 83.6+ KB\n"
     ]
    }
   ],
   "source": [
    "passengers.info()"
   ]
  },
  {
   "cell_type": "markdown",
   "metadata": {},
   "source": [
    "We find that apart from age and cabin columns, the embarked column also has missing values."
   ]
  },
  {
   "cell_type": "code",
   "execution_count": 3,
   "metadata": {
    "scrolled": true
   },
   "outputs": [
    {
     "name": "stdout",
     "output_type": "stream",
     "text": [
      "       PassengerId    Survived      Pclass         Age       SibSp  \\\n",
      "count   891.000000  891.000000  891.000000  714.000000  891.000000   \n",
      "mean    446.000000    0.383838    2.308642   29.699118    0.523008   \n",
      "std     257.353842    0.486592    0.836071   14.526497    1.102743   \n",
      "min       1.000000    0.000000    1.000000    0.420000    0.000000   \n",
      "25%     223.500000    0.000000    2.000000   20.125000    0.000000   \n",
      "50%     446.000000    0.000000    3.000000   28.000000    0.000000   \n",
      "75%     668.500000    1.000000    3.000000   38.000000    1.000000   \n",
      "max     891.000000    1.000000    3.000000   80.000000    8.000000   \n",
      "\n",
      "            Parch        Fare  \n",
      "count  891.000000  891.000000  \n",
      "mean     0.381594   32.204208  \n",
      "std      0.806057   49.693429  \n",
      "min      0.000000    0.000000  \n",
      "25%      0.000000    7.910400  \n",
      "50%      0.000000   14.454200  \n",
      "75%      0.000000   31.000000  \n",
      "max      6.000000  512.329200  \n"
     ]
    }
   ],
   "source": [
    "print(passengers.describe())"
   ]
  },
  {
   "cell_type": "markdown",
   "metadata": {},
   "source": [
    "### To check for number of missing data in each column:"
   ]
  },
  {
   "cell_type": "code",
   "execution_count": 4,
   "metadata": {
    "scrolled": true
   },
   "outputs": [
    {
     "name": "stdout",
     "output_type": "stream",
     "text": [
      "               0\n",
      "PassengerId    0\n",
      "Survived       0\n",
      "Pclass         0\n",
      "Name           0\n",
      "Sex            0\n",
      "Age          177\n",
      "SibSp          0\n",
      "Parch          0\n",
      "Ticket         0\n",
      "Fare           0\n",
      "Cabin        687\n",
      "Embarked       2\n"
     ]
    }
   ],
   "source": [
    "titanic_missing_data_stats = passengers.isnull().sum().to_frame()\n",
    "print(titanic_missing_data_stats)        "
   ]
  },
  {
   "cell_type": "markdown",
   "metadata": {},
   "source": [
    "It shows that 687 entries are missing from the cabin column out of the total 891 entries that is, 77.1% of values are missing. So, it is better to ignore this column from the analysis. Due to the inconsistent nature of the values in the ticket column, it is also excluded from the analysis."
   ]
  },
  {
   "cell_type": "code",
   "execution_count": 5,
   "metadata": {},
   "outputs": [
    {
     "data": {
      "text/html": [
       "<div>\n",
       "<style>\n",
       "    .dataframe thead tr:only-child th {\n",
       "        text-align: right;\n",
       "    }\n",
       "\n",
       "    .dataframe thead th {\n",
       "        text-align: left;\n",
       "    }\n",
       "\n",
       "    .dataframe tbody tr th {\n",
       "        vertical-align: top;\n",
       "    }\n",
       "</style>\n",
       "<table border=\"1\" class=\"dataframe\">\n",
       "  <thead>\n",
       "    <tr style=\"text-align: right;\">\n",
       "      <th></th>\n",
       "      <th>PassengerId</th>\n",
       "      <th>Survived</th>\n",
       "      <th>Pclass</th>\n",
       "      <th>Name</th>\n",
       "      <th>Sex</th>\n",
       "      <th>Age</th>\n",
       "      <th>SibSp</th>\n",
       "      <th>Parch</th>\n",
       "      <th>Fare</th>\n",
       "      <th>Embarked</th>\n",
       "    </tr>\n",
       "  </thead>\n",
       "  <tbody>\n",
       "    <tr>\n",
       "      <th>0</th>\n",
       "      <td>1</td>\n",
       "      <td>0</td>\n",
       "      <td>3</td>\n",
       "      <td>Braund, Mr. Owen Harris</td>\n",
       "      <td>male</td>\n",
       "      <td>22.0</td>\n",
       "      <td>1</td>\n",
       "      <td>0</td>\n",
       "      <td>7.2500</td>\n",
       "      <td>S</td>\n",
       "    </tr>\n",
       "    <tr>\n",
       "      <th>1</th>\n",
       "      <td>2</td>\n",
       "      <td>1</td>\n",
       "      <td>1</td>\n",
       "      <td>Cumings, Mrs. John Bradley (Florence Briggs Th...</td>\n",
       "      <td>female</td>\n",
       "      <td>38.0</td>\n",
       "      <td>1</td>\n",
       "      <td>0</td>\n",
       "      <td>71.2833</td>\n",
       "      <td>C</td>\n",
       "    </tr>\n",
       "    <tr>\n",
       "      <th>2</th>\n",
       "      <td>3</td>\n",
       "      <td>1</td>\n",
       "      <td>3</td>\n",
       "      <td>Heikkinen, Miss. Laina</td>\n",
       "      <td>female</td>\n",
       "      <td>26.0</td>\n",
       "      <td>0</td>\n",
       "      <td>0</td>\n",
       "      <td>7.9250</td>\n",
       "      <td>S</td>\n",
       "    </tr>\n",
       "    <tr>\n",
       "      <th>3</th>\n",
       "      <td>4</td>\n",
       "      <td>1</td>\n",
       "      <td>1</td>\n",
       "      <td>Futrelle, Mrs. Jacques Heath (Lily May Peel)</td>\n",
       "      <td>female</td>\n",
       "      <td>35.0</td>\n",
       "      <td>1</td>\n",
       "      <td>0</td>\n",
       "      <td>53.1000</td>\n",
       "      <td>S</td>\n",
       "    </tr>\n",
       "    <tr>\n",
       "      <th>4</th>\n",
       "      <td>5</td>\n",
       "      <td>0</td>\n",
       "      <td>3</td>\n",
       "      <td>Allen, Mr. William Henry</td>\n",
       "      <td>male</td>\n",
       "      <td>35.0</td>\n",
       "      <td>0</td>\n",
       "      <td>0</td>\n",
       "      <td>8.0500</td>\n",
       "      <td>S</td>\n",
       "    </tr>\n",
       "  </tbody>\n",
       "</table>\n",
       "</div>"
      ],
      "text/plain": [
       "   PassengerId  Survived  Pclass  \\\n",
       "0            1         0       3   \n",
       "1            2         1       1   \n",
       "2            3         1       3   \n",
       "3            4         1       1   \n",
       "4            5         0       3   \n",
       "\n",
       "                                                Name     Sex   Age  SibSp  \\\n",
       "0                            Braund, Mr. Owen Harris    male  22.0      1   \n",
       "1  Cumings, Mrs. John Bradley (Florence Briggs Th...  female  38.0      1   \n",
       "2                             Heikkinen, Miss. Laina  female  26.0      0   \n",
       "3       Futrelle, Mrs. Jacques Heath (Lily May Peel)  female  35.0      1   \n",
       "4                           Allen, Mr. William Henry    male  35.0      0   \n",
       "\n",
       "   Parch     Fare Embarked  \n",
       "0      0   7.2500        S  \n",
       "1      0  71.2833        C  \n",
       "2      0   7.9250        S  \n",
       "3      0  53.1000        S  \n",
       "4      0   8.0500        S  "
      ]
     },
     "execution_count": 5,
     "metadata": {},
     "output_type": "execute_result"
    }
   ],
   "source": [
    "passengers = passengers.drop(['Ticket','Cabin'], axis=1)\n",
    "passengers.head()"
   ]
  },
  {
   "cell_type": "markdown",
   "metadata": {},
   "source": [
    " ### Creating more descriptive labels"
   ]
  },
  {
   "cell_type": "markdown",
   "metadata": {},
   "source": [
    "Inorder to create interpretable visualizations later on, let us now create some extra columns with more descriptive labels for 'Survived', 'Pclass' and 'Embarked' columns."
   ]
  },
  {
   "cell_type": "code",
   "execution_count": 6,
   "metadata": {},
   "outputs": [
    {
     "data": {
      "text/plain": [
       "0        Died\n",
       "1    Survived\n",
       "2    Survived\n",
       "3    Survived\n",
       "4        Died\n",
       "Name: Survival, dtype: object"
      ]
     },
     "execution_count": 6,
     "metadata": {},
     "output_type": "execute_result"
    }
   ],
   "source": [
    "# Create Survival Label Column\n",
    "passengers['Survival'] = passengers.Survived.map({0 : 'Died', 1 : 'Survived'})\n",
    "passengers.Survival.head()"
   ]
  },
  {
   "cell_type": "code",
   "execution_count": 7,
   "metadata": {},
   "outputs": [
    {
     "data": {
      "text/plain": [
       "0    Third Class\n",
       "1    First Class\n",
       "2    Third Class\n",
       "3    First Class\n",
       "4    Third Class\n",
       "Name: Class, dtype: object"
      ]
     },
     "execution_count": 7,
     "metadata": {},
     "output_type": "execute_result"
    }
   ],
   "source": [
    "# Create Pclass Label Column\n",
    "passengers['Class'] = passengers.Pclass.map({1 : 'First Class', 2 : 'Second Class', 3 : 'Third Class'})\n",
    "passengers.Class.head()"
   ]
  },
  {
   "cell_type": "code",
   "execution_count": 8,
   "metadata": {},
   "outputs": [
    {
     "data": {
      "text/plain": [
       "0    Southampton\n",
       "1      Cherbourg\n",
       "2    Southampton\n",
       "3    Southampton\n",
       "4    Southampton\n",
       "Name: Ports, dtype: object"
      ]
     },
     "execution_count": 8,
     "metadata": {},
     "output_type": "execute_result"
    }
   ],
   "source": [
    "# Create Embarked Labels Column\n",
    "passengers['Ports'] = passengers.Embarked.map({'C' : 'Cherbourg', 'Q' : 'Queenstown', 'S' : 'Southampton'})\n",
    "passengers.Ports.head()"
   ]
  },
  {
   "cell_type": "code",
   "execution_count": 9,
   "metadata": {},
   "outputs": [
    {
     "data": {
      "text/html": [
       "<div>\n",
       "<style>\n",
       "    .dataframe thead tr:only-child th {\n",
       "        text-align: right;\n",
       "    }\n",
       "\n",
       "    .dataframe thead th {\n",
       "        text-align: left;\n",
       "    }\n",
       "\n",
       "    .dataframe tbody tr th {\n",
       "        vertical-align: top;\n",
       "    }\n",
       "</style>\n",
       "<table border=\"1\" class=\"dataframe\">\n",
       "  <thead>\n",
       "    <tr style=\"text-align: right;\">\n",
       "      <th></th>\n",
       "      <th>PassengerId</th>\n",
       "      <th>Survived</th>\n",
       "      <th>Pclass</th>\n",
       "      <th>Name</th>\n",
       "      <th>Sex</th>\n",
       "      <th>Age</th>\n",
       "      <th>SibSp</th>\n",
       "      <th>Parch</th>\n",
       "      <th>Fare</th>\n",
       "      <th>Embarked</th>\n",
       "      <th>Survival</th>\n",
       "      <th>Class</th>\n",
       "      <th>Ports</th>\n",
       "    </tr>\n",
       "  </thead>\n",
       "  <tbody>\n",
       "    <tr>\n",
       "      <th>0</th>\n",
       "      <td>1</td>\n",
       "      <td>0</td>\n",
       "      <td>3</td>\n",
       "      <td>Braund, Mr. Owen Harris</td>\n",
       "      <td>male</td>\n",
       "      <td>22.0</td>\n",
       "      <td>1</td>\n",
       "      <td>0</td>\n",
       "      <td>7.2500</td>\n",
       "      <td>S</td>\n",
       "      <td>Died</td>\n",
       "      <td>Third Class</td>\n",
       "      <td>Southampton</td>\n",
       "    </tr>\n",
       "    <tr>\n",
       "      <th>1</th>\n",
       "      <td>2</td>\n",
       "      <td>1</td>\n",
       "      <td>1</td>\n",
       "      <td>Cumings, Mrs. John Bradley (Florence Briggs Th...</td>\n",
       "      <td>female</td>\n",
       "      <td>38.0</td>\n",
       "      <td>1</td>\n",
       "      <td>0</td>\n",
       "      <td>71.2833</td>\n",
       "      <td>C</td>\n",
       "      <td>Survived</td>\n",
       "      <td>First Class</td>\n",
       "      <td>Cherbourg</td>\n",
       "    </tr>\n",
       "    <tr>\n",
       "      <th>2</th>\n",
       "      <td>3</td>\n",
       "      <td>1</td>\n",
       "      <td>3</td>\n",
       "      <td>Heikkinen, Miss. Laina</td>\n",
       "      <td>female</td>\n",
       "      <td>26.0</td>\n",
       "      <td>0</td>\n",
       "      <td>0</td>\n",
       "      <td>7.9250</td>\n",
       "      <td>S</td>\n",
       "      <td>Survived</td>\n",
       "      <td>Third Class</td>\n",
       "      <td>Southampton</td>\n",
       "    </tr>\n",
       "    <tr>\n",
       "      <th>3</th>\n",
       "      <td>4</td>\n",
       "      <td>1</td>\n",
       "      <td>1</td>\n",
       "      <td>Futrelle, Mrs. Jacques Heath (Lily May Peel)</td>\n",
       "      <td>female</td>\n",
       "      <td>35.0</td>\n",
       "      <td>1</td>\n",
       "      <td>0</td>\n",
       "      <td>53.1000</td>\n",
       "      <td>S</td>\n",
       "      <td>Survived</td>\n",
       "      <td>First Class</td>\n",
       "      <td>Southampton</td>\n",
       "    </tr>\n",
       "    <tr>\n",
       "      <th>4</th>\n",
       "      <td>5</td>\n",
       "      <td>0</td>\n",
       "      <td>3</td>\n",
       "      <td>Allen, Mr. William Henry</td>\n",
       "      <td>male</td>\n",
       "      <td>35.0</td>\n",
       "      <td>0</td>\n",
       "      <td>0</td>\n",
       "      <td>8.0500</td>\n",
       "      <td>S</td>\n",
       "      <td>Died</td>\n",
       "      <td>Third Class</td>\n",
       "      <td>Southampton</td>\n",
       "    </tr>\n",
       "  </tbody>\n",
       "</table>\n",
       "</div>"
      ],
      "text/plain": [
       "   PassengerId  Survived  Pclass  \\\n",
       "0            1         0       3   \n",
       "1            2         1       1   \n",
       "2            3         1       3   \n",
       "3            4         1       1   \n",
       "4            5         0       3   \n",
       "\n",
       "                                                Name     Sex   Age  SibSp  \\\n",
       "0                            Braund, Mr. Owen Harris    male  22.0      1   \n",
       "1  Cumings, Mrs. John Bradley (Florence Briggs Th...  female  38.0      1   \n",
       "2                             Heikkinen, Miss. Laina  female  26.0      0   \n",
       "3       Futrelle, Mrs. Jacques Heath (Lily May Peel)  female  35.0      1   \n",
       "4                           Allen, Mr. William Henry    male  35.0      0   \n",
       "\n",
       "   Parch     Fare Embarked  Survival        Class        Ports  \n",
       "0      0   7.2500        S      Died  Third Class  Southampton  \n",
       "1      0  71.2833        C  Survived  First Class    Cherbourg  \n",
       "2      0   7.9250        S  Survived  Third Class  Southampton  \n",
       "3      0  53.1000        S  Survived  First Class  Southampton  \n",
       "4      0   8.0500        S      Died  Third Class  Southampton  "
      ]
     },
     "execution_count": 9,
     "metadata": {},
     "output_type": "execute_result"
    }
   ],
   "source": [
    "passengers.head()"
   ]
  },
  {
   "cell_type": "markdown",
   "metadata": {},
   "source": [
    "### Percentage of people who survived"
   ]
  },
  {
   "cell_type": "code",
   "execution_count": 10,
   "metadata": {
    "scrolled": true
   },
   "outputs": [
    {
     "name": "stdout",
     "output_type": "stream",
     "text": [
      "Died        61.616162\n",
      "Survived    38.383838\n",
      "Name: Survival, dtype: float64\n"
     ]
    },
    {
     "data": {
      "text/plain": [
       "(-1.1124144256788431,\n",
       " 1.1054514992928401,\n",
       " -1.1145417767534422,\n",
       " 1.1193396499639321)"
      ]
     },
     "execution_count": 10,
     "metadata": {},
     "output_type": "execute_result"
    },
    {
     "data": {
      "image/png": "[encoded data removed]",
      "text/plain": [
       "<matplotlib.figure.Figure at 0x186c242c780>"
      ]
     },
     "metadata": {},
     "output_type": "display_data"
    }
   ],
   "source": [
    "survival_percentage = ((passengers['Survival'].value_counts()/891)*100)  \n",
    "print(survival_percentage)\n",
    "labels = ['Dead','Survived']\n",
    "colors = ['gold','yellowgreen']\n",
    "plt.pie(survival_percentage,labels = labels, colors = colors, \n",
    "        autopct='%1.1f%%', shadow='True', startangle = 140)\n",
    "plt.title(\"Percentage of people who survived\")\n",
    "plt.axis('equal')"
   ]
  },
  {
   "cell_type": "markdown",
   "metadata": {},
   "source": [
    "The percentage of people who survived is only 38.4%."
   ]
  },
  {
   "cell_type": "markdown",
   "metadata": {},
   "source": [
    "### Percentage of male and female passengers"
   ]
  },
  {
   "cell_type": "code",
   "execution_count": 11,
   "metadata": {},
   "outputs": [
    {
     "name": "stdout",
     "output_type": "stream",
     "text": [
      "male      64.758698\n",
      "female    35.241302\n",
      "Name: Sex, dtype: float64\n"
     ]
    },
    {
     "data": {
      "text/plain": [
       "(-1.1155437211698283,\n",
       " 1.1139134931398533,\n",
       " -1.1136375184948133,\n",
       " 1.117179781741608)"
      ]
     },
     "execution_count": 11,
     "metadata": {},
     "output_type": "execute_result"
    },
    {
     "data": {
      "image/png": "[encoded data removed]",
      "text/plain": [
       "<matplotlib.figure.Figure at 0x186c24a90b8>"
      ]
     },
     "metadata": {},
     "output_type": "display_data"
    }
   ],
   "source": [
    "gender_percentage = ((passengers['Sex'].value_counts()/891)*100)\n",
    "print(gender_percentage)\n",
    "labels = ['Male','Female']\n",
    "colors = ['lightblue','hotpink']\n",
    "plt.pie(gender_percentage, colors = colors, labels=labels,\n",
    "        autopct='%1.1f%%', shadow='True', startangle = 140)\n",
    "plt.title(\"Gender of passengers\")\n",
    "plt.axis('equal')"
   ]
  },
  {
   "cell_type": "markdown",
   "metadata": {},
   "source": [
    "About 65% of the passengers were males and the remaining 35% were females."
   ]
  },
  {
   "cell_type": "markdown",
   "metadata": {},
   "source": [
    "### Percentage of passengers in each class"
   ]
  },
  {
   "cell_type": "code",
   "execution_count": 12,
   "metadata": {},
   "outputs": [
    {
     "name": "stdout",
     "output_type": "stream",
     "text": [
      "Third Class     55.106622\n",
      "First Class     24.242424\n",
      "Second Class    20.650954\n",
      "Name: Class, dtype: float64\n"
     ]
    },
    {
     "data": {
      "image/png": "[encoded data removed]",
      "text/plain": [
       "<matplotlib.figure.Figure at 0x186bef1e2e8>"
      ]
     },
     "metadata": {},
     "output_type": "display_data"
    }
   ],
   "source": [
    "class_percentage = ((passengers['Class'].value_counts()/891)*100)\n",
    "class_percentage.plot(kind='bar')\n",
    "plt.title(\"Percentage of passengers in each class\")\n",
    "plt.ylabel(\"Percentage of passengers\")\n",
    "plt.xlabel(\"Class\")\n",
    "print (class_percentage)"
   ]
  },
  {
   "cell_type": "markdown",
   "metadata": {},
   "source": [
    "More than 50% of the number of total passengers are from 3rd class. About 24% of the passengers are from 1st class and only around 21% are from 2nd class."
   ]
  },
  {
   "cell_type": "markdown",
   "metadata": {},
   "source": [
    "### Percentage of passengers by sex and class"
   ]
  },
  {
   "cell_type": "code",
   "execution_count": 13,
   "metadata": {},
   "outputs": [
    {
     "name": "stdout",
     "output_type": "stream",
     "text": [
      "Sex              female       male\n",
      "Class                             \n",
      "First Class   10.549944  13.692480\n",
      "Second Class   8.529742  12.121212\n",
      "Third Class   16.161616  38.945006\n"
     ]
    },
    {
     "data": {
      "image/png": "[encoded data removed]",
      "text/plain": [
       "<matplotlib.figure.Figure at 0x186c29c2ac8>"
      ]
     },
     "metadata": {},
     "output_type": "display_data"
    }
   ],
   "source": [
    "gender_class_percentage=pd.crosstab(passengers['Class'],passengers['Sex'],normalize=True)*100\n",
    "ax=gender_class_percentage.plot.bar()\n",
    "ax.set(title='Percentage of passengers by sex and class',\n",
    "       xlabel='Class',\n",
    "       ylabel='Percentage of passengers',\n",
    "       ylim=[0,100])\n",
    "ax.set_xticklabels(ax.get_xmajorticklabels(), rotation=0);\n",
    "print(gender_class_percentage)"
   ]
  },
  {
   "cell_type": "markdown",
   "metadata": {},
   "source": [
    "We see that, both percentage of males and females in third class is higher than than those of first and second classes. The percentage of females in third class is double that of second class and only slightly higher than that of 1st class. But, the percentage of males in 3rd class is almost thrice that of 1st and 2nd class. The difference between the percentage of males and females is much higher in 3rd class compared to the other 2 classes. We also notice that the percentage of males is higher than the percentage of females in all three classes."
   ]
  },
  {
   "cell_type": "markdown",
   "metadata": {},
   "source": [
    "### Percentage of passengers travelling with different number of siblings/spouse"
   ]
  },
  {
   "cell_type": "code",
   "execution_count": 14,
   "metadata": {},
   "outputs": [
    {
     "name": "stdout",
     "output_type": "stream",
     "text": [
      "0    68.237935\n",
      "1    23.456790\n",
      "2     3.142536\n",
      "4     2.020202\n",
      "3     1.795735\n",
      "8     0.785634\n",
      "5     0.561167\n",
      "Name: SibSp, dtype: float64\n"
     ]
    },
    {
     "data": {
      "text/plain": [
       "<matplotlib.text.Text at 0x186c3a74978>"
      ]
     },
     "execution_count": 14,
     "metadata": {},
     "output_type": "execute_result"
    },
    {
     "data": {
      "image/png": "[encoded data removed]",
      "text/plain": [
       "<matplotlib.figure.Figure at 0x186c29756d8>"
      ]
     },
     "metadata": {},
     "output_type": "display_data"
    }
   ],
   "source": [
    "sibsp_percentage = (passengers['SibSp'].value_counts()/891)*100\n",
    "print(sibsp_percentage)\n",
    "sibsp_percentage.plot(kind='barh')\n",
    "plt.title(\"Percentage of passengers travelling with different number of siblings/spouse\")\n",
    "plt.xlabel(\"Percentage of passengers\")\n",
    "plt.ylabel(\"Number of siblings/spouse\")"
   ]
  },
  {
   "cell_type": "markdown",
   "metadata": {},
   "source": [
    "We can see that about 32% of the people travelled with siblings/spouse and 23% of the people travelled with only 1 sibling/spouse."
   ]
  },
  {
   "cell_type": "markdown",
   "metadata": {},
   "source": [
    "### Percentage of passengers travelling with different number of parents/children"
   ]
  },
  {
   "cell_type": "code",
   "execution_count": 15,
   "metadata": {
    "scrolled": true
   },
   "outputs": [
    {
     "name": "stdout",
     "output_type": "stream",
     "text": [
      "0    76.094276\n",
      "1    13.243547\n",
      "2     8.978676\n",
      "5     0.561167\n",
      "3     0.561167\n",
      "4     0.448934\n",
      "6     0.112233\n",
      "Name: Parch, dtype: float64\n"
     ]
    },
    {
     "data": {
      "text/plain": [
       "<matplotlib.text.Text at 0x186c3b27cc0>"
      ]
     },
     "execution_count": 15,
     "metadata": {},
     "output_type": "execute_result"
    },
    {
     "data": {
      "image/png": "[encoded data removed]",
      "text/plain": [
       "<matplotlib.figure.Figure at 0x186c3a782e8>"
      ]
     },
     "metadata": {},
     "output_type": "display_data"
    }
   ],
   "source": [
    "parch_percentage = (passengers['Parch'].value_counts()/891)*100\n",
    "print(parch_percentage)\n",
    "parch_percentage.plot(kind='barh', color=\"red\", alpha=.65)\n",
    "plt.title(\"Percentage of passengers travelling with different number of parents/children\")\n",
    "plt.xlabel(\"Percentage of passengers\")\n",
    "plt.ylabel(\"Number of parents/children\")"
   ]
  },
  {
   "cell_type": "markdown",
   "metadata": {},
   "source": [
    "Only 24% of the people travelled with parents/children and 13% of the people travelled with only 1 parent/child.\n",
    "\n",
    "On comparison of the above 2 graphs we find that, the percentage of passengers who travelled with siblings/spouse is 8% higher than those who travelled with parents/children."
   ]
  },
  {
   "cell_type": "markdown",
   "metadata": {},
   "source": [
    "### Percentage of passengers travelling with different number of relatives"
   ]
  },
  {
   "cell_type": "markdown",
   "metadata": {},
   "source": [
    "Let us insert an extra column to store the number of relatives travelling with each passenger."
   ]
  },
  {
   "cell_type": "code",
   "execution_count": 16,
   "metadata": {
    "scrolled": true
   },
   "outputs": [
    {
     "data": {
      "text/html": [
       "<div>\n",
       "<style>\n",
       "    .dataframe thead tr:only-child th {\n",
       "        text-align: right;\n",
       "    }\n",
       "\n",
       "    .dataframe thead th {\n",
       "        text-align: left;\n",
       "    }\n",
       "\n",
       "    .dataframe tbody tr th {\n",
       "        vertical-align: top;\n",
       "    }\n",
       "</style>\n",
       "<table border=\"1\" class=\"dataframe\">\n",
       "  <thead>\n",
       "    <tr style=\"text-align: right;\">\n",
       "      <th></th>\n",
       "      <th>PassengerId</th>\n",
       "      <th>Survived</th>\n",
       "      <th>Pclass</th>\n",
       "      <th>Name</th>\n",
       "      <th>Sex</th>\n",
       "      <th>Age</th>\n",
       "      <th>SibSp</th>\n",
       "      <th>Parch</th>\n",
       "      <th>Fare</th>\n",
       "      <th>Embarked</th>\n",
       "      <th>Survival</th>\n",
       "      <th>Class</th>\n",
       "      <th>Ports</th>\n",
       "      <th>Relatives</th>\n",
       "    </tr>\n",
       "  </thead>\n",
       "  <tbody>\n",
       "    <tr>\n",
       "      <th>0</th>\n",
       "      <td>1</td>\n",
       "      <td>0</td>\n",
       "      <td>3</td>\n",
       "      <td>Braund, Mr. Owen Harris</td>\n",
       "      <td>male</td>\n",
       "      <td>22.0</td>\n",
       "      <td>1</td>\n",
       "      <td>0</td>\n",
       "      <td>7.2500</td>\n",
       "      <td>S</td>\n",
       "      <td>Died</td>\n",
       "      <td>Third Class</td>\n",
       "      <td>Southampton</td>\n",
       "      <td>1</td>\n",
       "    </tr>\n",
       "    <tr>\n",
       "      <th>1</th>\n",
       "      <td>2</td>\n",
       "      <td>1</td>\n",
       "      <td>1</td>\n",
       "      <td>Cumings, Mrs. John Bradley (Florence Briggs Th...</td>\n",
       "      <td>female</td>\n",
       "      <td>38.0</td>\n",
       "      <td>1</td>\n",
       "      <td>0</td>\n",
       "      <td>71.2833</td>\n",
       "      <td>C</td>\n",
       "      <td>Survived</td>\n",
       "      <td>First Class</td>\n",
       "      <td>Cherbourg</td>\n",
       "      <td>1</td>\n",
       "    </tr>\n",
       "    <tr>\n",
       "      <th>2</th>\n",
       "      <td>3</td>\n",
       "      <td>1</td>\n",
       "      <td>3</td>\n",
       "      <td>Heikkinen, Miss. Laina</td>\n",
       "      <td>female</td>\n",
       "      <td>26.0</td>\n",
       "      <td>0</td>\n",
       "      <td>0</td>\n",
       "      <td>7.9250</td>\n",
       "      <td>S</td>\n",
       "      <td>Survived</td>\n",
       "      <td>Third Class</td>\n",
       "      <td>Southampton</td>\n",
       "      <td>0</td>\n",
       "    </tr>\n",
       "    <tr>\n",
       "      <th>3</th>\n",
       "      <td>4</td>\n",
       "      <td>1</td>\n",
       "      <td>1</td>\n",
       "      <td>Futrelle, Mrs. Jacques Heath (Lily May Peel)</td>\n",
       "      <td>female</td>\n",
       "      <td>35.0</td>\n",
       "      <td>1</td>\n",
       "      <td>0</td>\n",
       "      <td>53.1000</td>\n",
       "      <td>S</td>\n",
       "      <td>Survived</td>\n",
       "      <td>First Class</td>\n",
       "      <td>Southampton</td>\n",
       "      <td>1</td>\n",
       "    </tr>\n",
       "    <tr>\n",
       "      <th>4</th>\n",
       "      <td>5</td>\n",
       "      <td>0</td>\n",
       "      <td>3</td>\n",
       "      <td>Allen, Mr. William Henry</td>\n",
       "      <td>male</td>\n",
       "      <td>35.0</td>\n",
       "      <td>0</td>\n",
       "      <td>0</td>\n",
       "      <td>8.0500</td>\n",
       "      <td>S</td>\n",
       "      <td>Died</td>\n",
       "      <td>Third Class</td>\n",
       "      <td>Southampton</td>\n",
       "      <td>0</td>\n",
       "    </tr>\n",
       "  </tbody>\n",
       "</table>\n",
       "</div>"
      ],
      "text/plain": [
       "   PassengerId  Survived  Pclass  \\\n",
       "0            1         0       3   \n",
       "1            2         1       1   \n",
       "2            3         1       3   \n",
       "3            4         1       1   \n",
       "4            5         0       3   \n",
       "\n",
       "                                                Name     Sex   Age  SibSp  \\\n",
       "0                            Braund, Mr. Owen Harris    male  22.0      1   \n",
       "1  Cumings, Mrs. John Bradley (Florence Briggs Th...  female  38.0      1   \n",
       "2                             Heikkinen, Miss. Laina  female  26.0      0   \n",
       "3       Futrelle, Mrs. Jacques Heath (Lily May Peel)  female  35.0      1   \n",
       "4                           Allen, Mr. William Henry    male  35.0      0   \n",
       "\n",
       "   Parch     Fare Embarked  Survival        Class        Ports  Relatives  \n",
       "0      0   7.2500        S      Died  Third Class  Southampton          1  \n",
       "1      0  71.2833        C  Survived  First Class    Cherbourg          1  \n",
       "2      0   7.9250        S  Survived  Third Class  Southampton          0  \n",
       "3      0  53.1000        S  Survived  First Class  Southampton          1  \n",
       "4      0   8.0500        S      Died  Third Class  Southampton          0  "
      ]
     },
     "execution_count": 16,
     "metadata": {},
     "output_type": "execute_result"
    }
   ],
   "source": [
    "passengers['Relatives'] = passengers['SibSp'] + passengers['Parch']\n",
    "passengers.head()"
   ]
  },
  {
   "cell_type": "code",
   "execution_count": 17,
   "metadata": {
    "scrolled": true
   },
   "outputs": [
    {
     "name": "stdout",
     "output_type": "stream",
     "text": [
      "0     60.269360\n",
      "1     18.069585\n",
      "2     11.447811\n",
      "3      3.254770\n",
      "5      2.469136\n",
      "4      1.683502\n",
      "6      1.346801\n",
      "10     0.785634\n",
      "7      0.673401\n",
      "Name: Relatives, dtype: float64\n"
     ]
    },
    {
     "data": {
      "text/plain": [
       "<matplotlib.text.Text at 0x186c3bfe320>"
      ]
     },
     "execution_count": 17,
     "metadata": {},
     "output_type": "execute_result"
    },
    {
     "data": {
      "image/png": "[encoded data removed]",
      "text/plain": [
       "<matplotlib.figure.Figure at 0x186c3af8da0>"
      ]
     },
     "metadata": {},
     "output_type": "display_data"
    }
   ],
   "source": [
    "#Calculating percentage of passengers travelling with different number of relatives\n",
    "relatives_percentage = (passengers['Relatives'].value_counts()/891)*100\n",
    "print(relatives_percentage)\n",
    "relatives_percentage.plot(kind='barh',color=\"green\", alpha=.65)\n",
    "plt.title(\"Percentage of passengers travelling with different number of relatives\")\n",
    "plt.xlabel(\"Percentage of passengers\")\n",
    "plt.ylabel(\"Number of relatives\")"
   ]
  },
  {
   "cell_type": "markdown",
   "metadata": {},
   "source": [
    "We see that 60% of the people travelled alone while around 40% of the people travelled with relatives. We further notice that about 90% of people travelled with at most 2 relatives."
   ]
  },
  {
   "cell_type": "markdown",
   "metadata": {},
   "source": [
    "###  Number of people travelling with relatives from different classes"
   ]
  },
  {
   "cell_type": "code",
   "execution_count": 18,
   "metadata": {},
   "outputs": [
    {
     "data": {
      "text/plain": [
       "216"
      ]
     },
     "execution_count": 18,
     "metadata": {},
     "output_type": "execute_result"
    }
   ],
   "source": [
    "#Number of first class passengers\n",
    "relative_class_1=passengers.loc[passengers['Pclass'] == 1]\n",
    "len(relative_class_1)"
   ]
  },
  {
   "cell_type": "code",
   "execution_count": 19,
   "metadata": {},
   "outputs": [
    {
     "data": {
      "text/plain": [
       "184"
      ]
     },
     "execution_count": 19,
     "metadata": {},
     "output_type": "execute_result"
    }
   ],
   "source": [
    "#Number of second class passengers\n",
    "relative_class_2=passengers.loc[passengers['Pclass'] == 2]\n",
    "len(relative_class_2)"
   ]
  },
  {
   "cell_type": "code",
   "execution_count": 20,
   "metadata": {},
   "outputs": [
    {
     "data": {
      "text/plain": [
       "491"
      ]
     },
     "execution_count": 20,
     "metadata": {},
     "output_type": "execute_result"
    }
   ],
   "source": [
    "#Number of third class passengers\n",
    "relative_class_3=passengers.loc[passengers['Pclass'] == 3]\n",
    "len(relative_class_3)"
   ]
  },
  {
   "cell_type": "code",
   "execution_count": 21,
   "metadata": {},
   "outputs": [
    {
     "data": {
      "text/plain": [
       "Relatives\n",
       "0    50.462963\n",
       "1    32.407407\n",
       "2    11.111111\n",
       "3     3.240741\n",
       "4     0.925926\n",
       "5     1.851852\n",
       "dtype: float64"
      ]
     },
     "execution_count": 21,
     "metadata": {},
     "output_type": "execute_result"
    }
   ],
   "source": [
    "#percentage of people from first class travelling with different number of relatives\n",
    "(((relative_class_1.groupby(['Relatives']).size())/216)*100)"
   ]
  },
  {
   "cell_type": "code",
   "execution_count": 22,
   "metadata": {},
   "outputs": [
    {
     "data": {
      "text/plain": [
       "Relatives\n",
       "0    56.521739\n",
       "1    18.478261\n",
       "2    16.847826\n",
       "3     7.065217\n",
       "4     0.543478\n",
       "5     0.543478\n",
       "dtype: float64"
      ]
     },
     "execution_count": 22,
     "metadata": {},
     "output_type": "execute_result"
    }
   ],
   "source": [
    "#percentage of people from second class travelling with different number of relatives\n",
    "(((relative_class_2.groupby(['Relatives']).size())/184)*100)"
   ]
  },
  {
   "cell_type": "code",
   "execution_count": 23,
   "metadata": {},
   "outputs": [
    {
     "data": {
      "text/plain": [
       "Relatives\n",
       "0     65.987780\n",
       "1     11.608961\n",
       "2      9.572301\n",
       "3      1.832994\n",
       "4      2.443992\n",
       "5      3.462322\n",
       "6      2.443992\n",
       "7      1.221996\n",
       "10     1.425662\n",
       "dtype: float64"
      ]
     },
     "execution_count": 23,
     "metadata": {},
     "output_type": "execute_result"
    }
   ],
   "source": [
    "#percentage of people from third class travelling with different number of relatives\n",
    "(((relative_class_3.groupby(['Relatives']).size())/491)*100)"
   ]
  },
  {
   "cell_type": "code",
   "execution_count": 24,
   "metadata": {},
   "outputs": [
    {
     "data": {
      "image/png": "[encoded data removed]",
      "text/plain": [
       "<matplotlib.figure.Figure at 0x186c29280b8>"
      ]
     },
     "metadata": {},
     "output_type": "display_data"
    },
    {
     "data": {
      "image/png": "[encoded data removed]",
      "text/plain": [
       "<matplotlib.figure.Figure at 0x186c2958208>"
      ]
     },
     "metadata": {},
     "output_type": "display_data"
    },
    {
     "data": {
      "image/png": "[encoded data removed]",
      "text/plain": [
       "<matplotlib.figure.Figure at 0x186c3cc4a58>"
      ]
     },
     "metadata": {},
     "output_type": "display_data"
    }
   ],
   "source": [
    "(((relative_class_1.groupby(['Relatives']).size())/216)*100).plot(kind='bar')\n",
    "plt.title(\"Percentage of passengers in 1st class with relatives\")\n",
    "plt.ylabel(\"Percentage of passengers in 1st class\")\n",
    "plt.xlabel(\"Number of relatives\")\n",
    "plt.show()\n",
    "\n",
    "(((relative_class_2.groupby(['Relatives']).size())/184)*100).plot(kind='bar')\n",
    "plt.title(\"Percentage of passengers in 2nd class with relatives\")\n",
    "plt.ylabel(\"Percentage of passengers in 2nd class\")\n",
    "plt.xlabel(\"Number of relatives\")\n",
    "plt.show()\n",
    "\n",
    "(((relative_class_3.groupby(['Relatives']).size())/491)*100).plot(kind='bar')\n",
    "plt.title(\"Percentage of passengers in 3rd class with relatives\")\n",
    "plt.ylabel(\"Percentage of passengers in 3rd class\")\n",
    "plt.xlabel(\"Number of relatives\")\n",
    "plt.show()"
   ]
  },
  {
   "cell_type": "code",
   "execution_count": 36,
   "metadata": {},
   "outputs": [
    {
     "data": {
      "image/png": "[encoded data removed]",
      "text/plain": [
       "<matplotlib.figure.Figure at 0x186c3d957b8>"
      ]
     },
     "metadata": {},
     "output_type": "display_data"
    }
   ],
   "source": [
    "p1= (((relative_class_1.groupby(['Relatives']).size())/216)*100)\n",
    "\n",
    "p2= (((relative_class_2.groupby(['Relatives']).size())/184)*100)\n",
    "\n",
    "p3= (((relative_class_3.groupby(['Relatives']).size())/491)*100)\n",
    "\n",
    "from matplotlib import pyplot\n",
    "\n",
    "\n",
    "pyplot.figure()\n",
    "\n",
    "# sp1\n",
    "pyplot.subplot(131) # row, column, plot\n",
    "p1.plot(kind='bar')\n",
    "\n",
    "# sp2\n",
    "pyplot.subplot(132) # row column, plot\n",
    "p2.plot(kind='bar')\n",
    "\n",
    "# sp3\n",
    "pyplot.subplot(133) # row column, plot\n",
    "p3.plot(kind='bar')\n",
    "\n",
    "pyplot.show()"
   ]
  },
  {
   "cell_type": "markdown",
   "metadata": {},
   "source": [
    "We see that the maximum number of relatives per person is 5 in 1st and 2nd class and it is 10 in 3rd class.\n",
    "\n",
    "In 1st class the percentage of people travelling with relatives is almost equal to the number of people who don't. But in 2nd and 3rd classes, the number of people travelling alone is higher compared to people travelling with relatives. The difference is especially greater in 3rd class. \n",
    "\n",
    "In first class, about 83% of the people travel with at most 1 relative."
   ]
  },
  {
   "cell_type": "markdown",
   "metadata": {},
   "source": [
    "### Finding missing entries in Embarked column"
   ]
  },
  {
   "cell_type": "code",
   "execution_count": 30,
   "metadata": {
    "scrolled": true
   },
   "outputs": [
    {
     "name": "stdout",
     "output_type": "stream",
     "text": [
      "     PassengerId  Survived  Pclass                                       Name  \\\n",
      "61            62         1       1                        Icard, Miss. Amelie   \n",
      "829          830         1       1  Stone, Mrs. George Nelson (Martha Evelyn)   \n",
      "\n",
      "        Sex   Age  SibSp  Parch  Fare Embarked  Survival        Class Ports  \\\n",
      "61   female  38.0      0      0  80.0      NaN  Survived  First Class   NaN   \n",
      "829  female  62.0      0      0  80.0      NaN  Survived  First Class   NaN   \n",
      "\n",
      "     Relatives  \n",
      "61           0  \n",
      "829          0  \n"
     ]
    }
   ],
   "source": [
    "print(passengers[passengers.Ports.isnull()])"
   ]
  },
  {
   "cell_type": "markdown",
   "metadata": {},
   "source": [
    "### Removing missing entries in Embarked column "
   ]
  },
  {
   "cell_type": "markdown",
   "metadata": {},
   "source": [
    "Let us create a new dataframe with 4 columns Pclass, Embarked, Fare and Sex and then remove the missing entries. "
   ]
  },
  {
   "cell_type": "code",
   "execution_count": 31,
   "metadata": {},
   "outputs": [
    {
     "data": {
      "text/html": [
       "<div>\n",
       "<style>\n",
       "    .dataframe thead tr:only-child th {\n",
       "        text-align: right;\n",
       "    }\n",
       "\n",
       "    .dataframe thead th {\n",
       "        text-align: left;\n",
       "    }\n",
       "\n",
       "    .dataframe tbody tr th {\n",
       "        vertical-align: top;\n",
       "    }\n",
       "</style>\n",
       "<table border=\"1\" class=\"dataframe\">\n",
       "  <thead>\n",
       "    <tr style=\"text-align: right;\">\n",
       "      <th></th>\n",
       "      <th>Pclass</th>\n",
       "      <th>Ports</th>\n",
       "      <th>Fare</th>\n",
       "      <th>Sex</th>\n",
       "      <th>Class</th>\n",
       "    </tr>\n",
       "  </thead>\n",
       "  <tbody>\n",
       "    <tr>\n",
       "      <th>0</th>\n",
       "      <td>3</td>\n",
       "      <td>Southampton</td>\n",
       "      <td>7.2500</td>\n",
       "      <td>male</td>\n",
       "      <td>Third Class</td>\n",
       "    </tr>\n",
       "    <tr>\n",
       "      <th>1</th>\n",
       "      <td>1</td>\n",
       "      <td>Cherbourg</td>\n",
       "      <td>71.2833</td>\n",
       "      <td>female</td>\n",
       "      <td>First Class</td>\n",
       "    </tr>\n",
       "    <tr>\n",
       "      <th>2</th>\n",
       "      <td>3</td>\n",
       "      <td>Southampton</td>\n",
       "      <td>7.9250</td>\n",
       "      <td>female</td>\n",
       "      <td>Third Class</td>\n",
       "    </tr>\n",
       "    <tr>\n",
       "      <th>3</th>\n",
       "      <td>1</td>\n",
       "      <td>Southampton</td>\n",
       "      <td>53.1000</td>\n",
       "      <td>female</td>\n",
       "      <td>First Class</td>\n",
       "    </tr>\n",
       "    <tr>\n",
       "      <th>4</th>\n",
       "      <td>3</td>\n",
       "      <td>Southampton</td>\n",
       "      <td>8.0500</td>\n",
       "      <td>male</td>\n",
       "      <td>Third Class</td>\n",
       "    </tr>\n",
       "  </tbody>\n",
       "</table>\n",
       "</div>"
      ],
      "text/plain": [
       "   Pclass        Ports     Fare     Sex        Class\n",
       "0       3  Southampton   7.2500    male  Third Class\n",
       "1       1    Cherbourg  71.2833  female  First Class\n",
       "2       3  Southampton   7.9250  female  Third Class\n",
       "3       1  Southampton  53.1000  female  First Class\n",
       "4       3  Southampton   8.0500    male  Third Class"
      ]
     },
     "execution_count": 31,
     "metadata": {},
     "output_type": "execute_result"
    }
   ],
   "source": [
    "#create new dataframe\n",
    "passenger_class_embarked_Fare = passengers[['Pclass','Ports','Fare','Sex','Class']]\n",
    "passenger_class_embarked_Fare.head()"
   ]
  },
  {
   "cell_type": "code",
   "execution_count": 32,
   "metadata": {},
   "outputs": [
    {
     "name": "stdout",
     "output_type": "stream",
     "text": [
      "     Pclass Ports  Fare     Sex        Class\n",
      "61        1   NaN  80.0  female  First Class\n",
      "829       1   NaN  80.0  female  First Class\n"
     ]
    }
   ],
   "source": [
    "#missing entries in new dataframe\n",
    "print(passenger_class_embarked_Fare[passenger_class_embarked_Fare.Ports.isnull()])"
   ]
  },
  {
   "cell_type": "code",
   "execution_count": 33,
   "metadata": {},
   "outputs": [
    {
     "name": "stdout",
     "output_type": "stream",
     "text": [
      "889\n",
      "Empty DataFrame\n",
      "Columns: [Pclass, Ports, Fare, Sex, Class]\n",
      "Index: []\n"
     ]
    }
   ],
   "source": [
    "#Remove the missing values from new data frame\n",
    "passenger_class_embarked_Fare_clean = passenger_class_embarked_Fare.dropna()\n",
    "\n",
    "#To check if values are removed\n",
    "print(len(passenger_class_embarked_Fare_clean))\n",
    "print(passenger_class_embarked_Fare_clean[passenger_class_embarked_Fare_clean.Ports.isnull()])"
   ]
  },
  {
   "cell_type": "markdown",
   "metadata": {},
   "source": [
    "### Percentage of people who boarded at different ports"
   ]
  },
  {
   "cell_type": "markdown",
   "metadata": {},
   "source": [
    "It is to be noted that in all calculations involving the port of embarkation as a parameter, the 2 missing entries are not taken into consideration due to the unavailability of data."
   ]
  },
  {
   "cell_type": "code",
   "execution_count": 34,
   "metadata": {},
   "outputs": [
    {
     "name": "stdout",
     "output_type": "stream",
     "text": [
      "Southampton    72.440945\n",
      "Cherbourg      18.897638\n",
      "Queenstown      8.661417\n",
      "Name: Ports, dtype: float64\n"
     ]
    },
    {
     "data": {
      "text/plain": [
       "(-1.1179254325167649,\n",
       " 1.1186609606680391,\n",
       " -1.1022168992622188,\n",
       " 1.1182129812566628)"
      ]
     },
     "execution_count": 34,
     "metadata": {},
     "output_type": "execute_result"
    },
    {
     "data": {
      "image/png": "[encoded data removed]",
      "text/plain": [
       "<matplotlib.figure.Figure at 0x196f1745048>"
      ]
     },
     "metadata": {},
     "output_type": "display_data"
    }
   ],
   "source": [
    "embarkation_percentage = (passenger_class_embarked_Fare_clean['Ports'].value_counts()/889)*100\n",
    "print(embarkation_percentage)\n",
    "\n",
    "colors = ['gold','yellowgreen','lightcoral']\n",
    "labels = ['Southampton','Cherbourg','Queenstown']\n",
    "plt.pie(embarkation_percentage, labels=labels, colors = colors, \n",
    "        autopct='%1.1f%%', shadow='True', startangle = 140)\n",
    "plt.title(\"Percentage of people who boarded at different ports\")\n",
    "plt.axis('equal')"
   ]
  },
  {
   "cell_type": "markdown",
   "metadata": {},
   "source": [
    "More than 70% of the passengers have boarded at the Southampton port, around 19% of the passengers have boarded at the Cherbourg port and less than 10% have boarded at the Queenstown port."
   ]
  },
  {
   "cell_type": "markdown",
   "metadata": {},
   "source": [
    "### Port of embarkation of people belonging to different classes"
   ]
  },
  {
   "cell_type": "code",
   "execution_count": 128,
   "metadata": {},
   "outputs": [
    {
     "name": "stdout",
     "output_type": "stream",
     "text": [
      "Ports         Cherbourg  Queenstown  Southampton\n",
      "Class                                           \n",
      "First Class          85           2          127\n",
      "Second Class         17           3          164\n",
      "Third Class          66          72          353\n"
     ]
    },
    {
     "data": {
      "image/png": "[encoded data removed]",
      "text/plain": [
       "<matplotlib.figure.Figure at 0x196f46431d0>"
      ]
     },
     "metadata": {},
     "output_type": "display_data"
    }
   ],
   "source": [
    "embarked_class=pd.crosstab(passenger_class_embarked_Fare_clean['Class'],passenger_class_embarked_Fare_clean['Ports'])\n",
    "ax=embarked_class.plot.bar()\n",
    "ax.set(title='Port of embarkation of people of different classes',\n",
    "       xlabel='Class',\n",
    "       ylabel='Number of people',\n",
    "       ylim=[0,400])\n",
    "ax.set_xticklabels(ax.get_xmajorticklabels(), rotation=0);\n",
    "print(embarked_class)"
   ]
  },
  {
   "cell_type": "markdown",
   "metadata": {},
   "source": [
    "The Southampton port is undoubtedly the most popular port among all 3 classes.\n",
    "\n",
    "It looks like Cherbourg port is more popular than Queenstown port among the first and second classes. But among the third class, the number of people who boarded from the Queenstown port is higher than those who boarded from Cherbourg port.\n",
    "\n",
    "We can also see that the Cherbourg port is more popular among the first class than the second class.\n",
    "\n",
    "Queenstown port is more popular among 3rd class than 1st and 2nd classes."
   ]
  },
  {
   "cell_type": "markdown",
   "metadata": {},
   "source": [
    "### FARE"
   ]
  },
  {
   "cell_type": "markdown",
   "metadata": {},
   "source": [
    "### Fare based on gender"
   ]
  },
  {
   "cell_type": "code",
   "execution_count": 37,
   "metadata": {},
   "outputs": [
    {
     "data": {
      "text/plain": [
       "<matplotlib.text.Text at 0x196f2c116a0>"
      ]
     },
     "execution_count": 37,
     "metadata": {},
     "output_type": "execute_result"
    },
    {
     "data": {
      "image/png": "[encoded data removed]",
      "text/plain": [
       "<matplotlib.figure.Figure at 0x196f2849438>"
      ]
     },
     "metadata": {},
     "output_type": "display_data"
    }
   ],
   "source": [
    "passengers.groupby(['Sex']).mean().Fare.plot(kind='bar')\n",
    "plt.title(\"Fare based on gender\")\n",
    "plt.ylabel(\"Mean Fare per person\")\n",
    "plt.xlabel(\"Gender\")"
   ]
  },
  {
   "cell_type": "markdown",
   "metadata": {},
   "source": [
    "The mean fare is higher for females than males."
   ]
  },
  {
   "cell_type": "markdown",
   "metadata": {},
   "source": [
    "### Fare based on class"
   ]
  },
  {
   "cell_type": "code",
   "execution_count": 38,
   "metadata": {},
   "outputs": [
    {
     "data": {
      "text/plain": [
       "<matplotlib.text.Text at 0x196f2cce208>"
      ]
     },
     "execution_count": 38,
     "metadata": {},
     "output_type": "execute_result"
    },
    {
     "data": {
      "image/png": "[encoded data removed]",
      "text/plain": [
       "<matplotlib.figure.Figure at 0x196f2d03ef0>"
      ]
     },
     "metadata": {},
     "output_type": "display_data"
    }
   ],
   "source": [
    "passengers.groupby(['Class']).mean().Fare.plot(kind='bar')\n",
    "plt.title(\"Fare based on class\")\n",
    "plt.ylabel(\"Mean Fare per person\")\n",
    "plt.xlabel(\"Class\")"
   ]
  },
  {
   "cell_type": "markdown",
   "metadata": {},
   "source": [
    "First class has the highest fares followed by the second class and then the third class."
   ]
  },
  {
   "cell_type": "markdown",
   "metadata": {},
   "source": [
    "### Fare based on port of embarkation"
   ]
  },
  {
   "cell_type": "code",
   "execution_count": 131,
   "metadata": {
    "scrolled": true
   },
   "outputs": [
    {
     "data": {
      "text/plain": [
       "<matplotlib.text.Text at 0x196f4da1fd0>"
      ]
     },
     "execution_count": 131,
     "metadata": {},
     "output_type": "execute_result"
    },
    {
     "data": {
      "image/png": "[encoded data removed]",
      "text/plain": [
       "<matplotlib.figure.Figure at 0x196f64b2128>"
      ]
     },
     "metadata": {},
     "output_type": "display_data"
    }
   ],
   "source": [
    "passenger_class_embarked_Fare_clean.groupby(['Ports']).mean().Fare.plot(kind='bar')\n",
    "plt.title(\"Mean fare based on port of embarkation\")\n",
    "plt.ylabel(\"Mean Fare per person\")\n",
    "plt.xlabel(\"Port of embarkation\")"
   ]
  },
  {
   "cell_type": "markdown",
   "metadata": {},
   "source": [
    "Though Southampton is farther away from the destination than Cherbourg, mean fare collected at Southampton is lower compared to that of Cherbourg.\n",
    "\n",
    "Let us sum up the fares and check if we get a similar result."
   ]
  },
  {
   "cell_type": "code",
   "execution_count": 129,
   "metadata": {
    "scrolled": true
   },
   "outputs": [
    {
     "data": {
      "text/plain": [
       "<matplotlib.text.Text at 0x196f4d43780>"
      ]
     },
     "execution_count": 129,
     "metadata": {},
     "output_type": "execute_result"
    },
    {
     "data": {
      "image/png": "[encoded data removed]",
      "text/plain": [
       "<matplotlib.figure.Figure at 0x196f4631320>"
      ]
     },
     "metadata": {},
     "output_type": "display_data"
    }
   ],
   "source": [
    "passenger_class_embarked_Fare_clean.groupby(['Ports']).sum().Fare.plot(kind='bar')\n",
    "plt.title(\"Sum of fares based on port of embarkation\")\n",
    "plt.ylabel(\"Total Fare collected\")\n",
    "plt.xlabel(\"Port of embarkation\")"
   ]
  },
  {
   "cell_type": "markdown",
   "metadata": {},
   "source": [
    "Here, we find that Southampton has a higher sum of fares than Cherbourg port. When I looked at the data, I found that some of the fare values were '0'. I wanted to know if this caused the variation between the sum and mean results. "
   ]
  },
  {
   "cell_type": "code",
   "execution_count": 41,
   "metadata": {},
   "outputs": [
    {
     "name": "stdout",
     "output_type": "stream",
     "text": [
      "     PassengerId  Survived  Pclass                              Name   Sex  \\\n",
      "179          180         0       3               Leonard, Mr. Lionel  male   \n",
      "263          264         0       1             Harrison, Mr. William  male   \n",
      "271          272         1       3      Tornquist, Mr. William Henry  male   \n",
      "277          278         0       2       Parkes, Mr. Francis \"Frank\"  male   \n",
      "302          303         0       3   Johnson, Mr. William Cahoone Jr  male   \n",
      "413          414         0       2    Cunningham, Mr. Alfred Fleming  male   \n",
      "466          467         0       2             Campbell, Mr. William  male   \n",
      "481          482         0       2  Frost, Mr. Anthony Wood \"Archie\"  male   \n",
      "597          598         0       3               Johnson, Mr. Alfred  male   \n",
      "633          634         0       1     Parr, Mr. William Henry Marsh  male   \n",
      "674          675         0       2        Watson, Mr. Ennis Hastings  male   \n",
      "732          733         0       2              Knight, Mr. Robert J  male   \n",
      "806          807         0       1            Andrews, Mr. Thomas Jr  male   \n",
      "815          816         0       1                  Fry, Mr. Richard  male   \n",
      "822          823         0       1   Reuchlin, Jonkheer. John George  male   \n",
      "\n",
      "      Age  SibSp  Parch  Fare Embarked  Survival         Class        Ports  \\\n",
      "179  36.0      0      0   0.0        S      Died   Third Class  Southampton   \n",
      "263  40.0      0      0   0.0        S      Died   First Class  Southampton   \n",
      "271  25.0      0      0   0.0        S  Survived   Third Class  Southampton   \n",
      "277   NaN      0      0   0.0        S      Died  Second Class  Southampton   \n",
      "302  19.0      0      0   0.0        S      Died   Third Class  Southampton   \n",
      "413   NaN      0      0   0.0        S      Died  Second Class  Southampton   \n",
      "466   NaN      0      0   0.0        S      Died  Second Class  Southampton   \n",
      "481   NaN      0      0   0.0        S      Died  Second Class  Southampton   \n",
      "597  49.0      0      0   0.0        S      Died   Third Class  Southampton   \n",
      "633   NaN      0      0   0.0        S      Died   First Class  Southampton   \n",
      "674   NaN      0      0   0.0        S      Died  Second Class  Southampton   \n",
      "732   NaN      0      0   0.0        S      Died  Second Class  Southampton   \n",
      "806  39.0      0      0   0.0        S      Died   First Class  Southampton   \n",
      "815   NaN      0      0   0.0        S      Died   First Class  Southampton   \n",
      "822  38.0      0      0   0.0        S      Died   First Class  Southampton   \n",
      "\n",
      "     Relatives  \n",
      "179          0  \n",
      "263          0  \n",
      "271          0  \n",
      "277          0  \n",
      "302          0  \n",
      "413          0  \n",
      "466          0  \n",
      "481          0  \n",
      "597          0  \n",
      "633          0  \n",
      "674          0  \n",
      "732          0  \n",
      "806          0  \n",
      "815          0  \n",
      "822          0  \n"
     ]
    },
    {
     "data": {
      "text/plain": [
       "15"
      ]
     },
     "execution_count": 41,
     "metadata": {},
     "output_type": "execute_result"
    }
   ],
   "source": [
    "#Print entries that have fare value as '0'\n",
    "passengers.Fare == 0\n",
    "fare0_df= passengers[passengers.Fare == 0]\n",
    "print(fare0_df)\n",
    "len(fare0_df)"
   ]
  },
  {
   "cell_type": "markdown",
   "metadata": {},
   "source": [
    "We note that all these 0 valued fare entries belong to males and none of them have relatives aboard.\n",
    "\n",
    "A characteristic of particular interest here is that all entries which have 0 fare are from Southampton port. Let us check if removing these values causes any significant change in the mean graph."
   ]
  },
  {
   "cell_type": "code",
   "execution_count": 42,
   "metadata": {},
   "outputs": [
    {
     "data": {
      "text/plain": [
       "876"
      ]
     },
     "execution_count": 42,
     "metadata": {},
     "output_type": "execute_result"
    }
   ],
   "source": [
    "#Create a dataframe without zero fare entries\n",
    "without_zero_df = passengers[passengers.Fare != 0]\n",
    "len(without_zero_df)"
   ]
  },
  {
   "cell_type": "code",
   "execution_count": 132,
   "metadata": {},
   "outputs": [
    {
     "data": {
      "text/plain": [
       "<matplotlib.text.Text at 0x196f62bfac8>"
      ]
     },
     "execution_count": 132,
     "metadata": {},
     "output_type": "execute_result"
    },
    {
     "data": {
      "image/png": "[encoded data removed]",
      "text/plain": [
       "<matplotlib.figure.Figure at 0x196f638ec18>"
      ]
     },
     "metadata": {},
     "output_type": "display_data"
    }
   ],
   "source": [
    "without_zero_df.groupby(['Ports']).mean().Fare.plot(kind='bar')\n",
    "plt.title(\"Mean fare based on port of embarkation\")\n",
    "plt.ylabel(\"Mean Fare per person\")\n",
    "plt.xlabel(\"Port of embarkation\")"
   ]
  },
  {
   "cell_type": "markdown",
   "metadata": {},
   "source": [
    "But, this does not cause any significant change in the graph. So, I went back to look at the number of people from different classes who boarded at various ports and I found that the number of first class passengers from Cherbourg port is significantly higher than those from Southampton port. This might be causing the mean fare from Cherbourg to be higher than that from Southampton."
   ]
  },
  {
   "cell_type": "markdown",
   "metadata": {},
   "source": [
    "### ANALYSIS OF PASSENGERS WITH '0' FARE"
   ]
  },
  {
   "cell_type": "markdown",
   "metadata": {},
   "source": [
    "I was curious about the people who could travel free of charge and if it was directly linked to the class."
   ]
  },
  {
   "cell_type": "markdown",
   "metadata": {},
   "source": [
    "### Class of people with '0' fare"
   ]
  },
  {
   "cell_type": "code",
   "execution_count": 169,
   "metadata": {},
   "outputs": [
    {
     "name": "stdout",
     "output_type": "stream",
     "text": [
      "Second Class    40.000000\n",
      "First Class     33.333333\n",
      "Third Class     26.666667\n",
      "Name: Class, dtype: float64\n"
     ]
    },
    {
     "data": {
      "text/plain": [
       "<matplotlib.text.Text at 0x196f6f78898>"
      ]
     },
     "execution_count": 169,
     "metadata": {},
     "output_type": "execute_result"
    },
    {
     "data": {
      "image/png": "[encoded data removed]",
      "text/plain": [
       "<matplotlib.figure.Figure at 0x196f6f44c88>"
      ]
     },
     "metadata": {},
     "output_type": "display_data"
    }
   ],
   "source": [
    "fare0_df_class_percentage = ((fare0_df['Class'].value_counts()/15)*100)\n",
    "fare0_df_class_percentage.plot(kind='bar')\n",
    "print (fare0_df_class_percentage)\n",
    "plt.title(\"Percentage of passengers with '0' fare in each class\")\n",
    "plt.xlabel(\"Class\")\n",
    "plt.ylabel(\"Percentage of passengers with '0' fare\")"
   ]
  },
  {
   "cell_type": "markdown",
   "metadata": {},
   "source": [
    "We observe that maximum number of people who travelled free of charge are from 2nd class and the minimum from 3rd class. About 73% of them are from 1st class or 2nd class."
   ]
  },
  {
   "cell_type": "markdown",
   "metadata": {},
   "source": [
    "### Chances of survival of people with '0' fare"
   ]
  },
  {
   "cell_type": "code",
   "execution_count": 47,
   "metadata": {
    "scrolled": true
   },
   "outputs": [
    {
     "name": "stdout",
     "output_type": "stream",
     "text": [
      "Died        93.333333\n",
      "Survived     6.666667\n",
      "Name: Survival, dtype: float64\n"
     ]
    },
    {
     "data": {
      "text/plain": [
       "(-1.1041539314426385,\n",
       " 1.1065695067442638,\n",
       " -1.1067593249952199,\n",
       " 1.1075216272817197)"
      ]
     },
     "execution_count": 47,
     "metadata": {},
     "output_type": "execute_result"
    },
    {
     "data": {
      "image/png": "[encoded data removed]",
      "text/plain": [
       "<matplotlib.figure.Figure at 0x196f2df2390>"
      ]
     },
     "metadata": {},
     "output_type": "display_data"
    }
   ],
   "source": [
    "fare0_df_survival_percentage = ((fare0_df['Survival'].value_counts()/15)*100)  \n",
    "print(fare0_df_survival_percentage)\n",
    "labels = ['Dead','Survived']\n",
    "colors = ['gold','yellowgreen']\n",
    "plt.pie(fare0_df_survival_percentage,labels = labels, colors = colors, \n",
    "        autopct='%1.1f%%', shadow='True', startangle = 140)\n",
    "plt.title(\"Survival percentage of passengers with '0' fare\")\n",
    "plt.axis('equal')"
   ]
  },
  {
   "cell_type": "markdown",
   "metadata": {},
   "source": [
    "The chances of survival of people who travelled free of charge is only 6.7% but this could be due to the fact that all the people in this group were males and also that about 67% of them belong to second or third class. We will be discovering in the following graphs that these traits are associated with lower chances of survival."
   ]
  },
  {
   "cell_type": "markdown",
   "metadata": {},
   "source": [
    "### SURVIVAL"
   ]
  },
  {
   "cell_type": "markdown",
   "metadata": {},
   "source": [
    "###  Survival  based on gender"
   ]
  },
  {
   "cell_type": "code",
   "execution_count": 48,
   "metadata": {
    "scrolled": true
   },
   "outputs": [
    {
     "name": "stdout",
     "output_type": "stream",
     "text": [
      "Sex\n",
      "female    0.742038\n",
      "male      0.188908\n",
      "Name: Survived, dtype: float64\n"
     ]
    },
    {
     "data": {
      "image/png": "[encoded data removed]",
      "text/plain": [
       "<matplotlib.figure.Figure at 0x196f2f13358>"
      ]
     },
     "metadata": {},
     "output_type": "display_data"
    }
   ],
   "source": [
    "passengers.groupby(['Sex']).mean().Survived.plot(kind='barh')\n",
    "plt.title(\"Relation between Survival and Gender\")\n",
    "plt.xlabel(\"Probability of survival\")\n",
    "plt.ylabel(\"Gender\")\n",
    "print(passengers.groupby(['Sex']).mean().Survived)"
   ]
  },
  {
   "cell_type": "markdown",
   "metadata": {},
   "source": [
    "From the above graph it can be observed that the chance of survival of females is more than 3 times that of males. This is because of the 'Woman First' policy."
   ]
  },
  {
   "cell_type": "markdown",
   "metadata": {},
   "source": [
    "### Survival based on class"
   ]
  },
  {
   "cell_type": "code",
   "execution_count": 49,
   "metadata": {},
   "outputs": [
    {
     "name": "stdout",
     "output_type": "stream",
     "text": [
      "Class\n",
      "First Class     0.629630\n",
      "Second Class    0.472826\n",
      "Third Class     0.242363\n",
      "Name: Survived, dtype: float64\n"
     ]
    },
    {
     "data": {
      "image/png": "[encoded data removed]",
      "text/plain": [
       "<matplotlib.figure.Figure at 0x196f2fff2e8>"
      ]
     },
     "metadata": {},
     "output_type": "display_data"
    }
   ],
   "source": [
    "passengers.groupby(['Class']).mean().Survived.plot(kind='barh')\n",
    "plt.title(\"Relation between Survival and Class\")\n",
    "plt.xlabel(\"Probability of survival\")\n",
    "plt.ylabel(\"Class\")\n",
    "print(passengers.groupby(['Class']).mean().Survived)"
   ]
  },
  {
   "cell_type": "markdown",
   "metadata": {},
   "source": [
    "Here, we see that people belonging to the first class have the highest rate of survival, followed by the people belonging to the second class and then the third class. So, higher the class greater has been the chance of survival."
   ]
  },
  {
   "cell_type": "markdown",
   "metadata": {},
   "source": [
    "### Survival based on gender and class"
   ]
  },
  {
   "cell_type": "code",
   "execution_count": 50,
   "metadata": {},
   "outputs": [
    {
     "data": {
      "text/plain": [
       "<matplotlib.text.Text at 0x196f30be7f0>"
      ]
     },
     "execution_count": 50,
     "metadata": {},
     "output_type": "execute_result"
    },
    {
     "data": {
      "image/png": "[encoded data removed]",
      "text/plain": [
       "<matplotlib.figure.Figure at 0x196f30184a8>"
      ]
     },
     "metadata": {},
     "output_type": "display_data"
    }
   ],
   "source": [
    "passengers.groupby(['Sex','Class']).mean().Survived.plot(kind='bar')\n",
    "plt.title(\"Survival based on gender and class\")\n",
    "plt.xlabel(\"Gender,Class\")\n",
    "plt.ylabel(\"Probability of survival\")"
   ]
  },
  {
   "cell_type": "markdown",
   "metadata": {},
   "source": [
    "Irrespective of class, females have higher survival rates than males. In both female and male population, we can see that maximum survivability is in first class followed by second class and then finally the third class."
   ]
  },
  {
   "cell_type": "markdown",
   "metadata": {},
   "source": [
    "### Survival based on number of siblings/spouse onboard"
   ]
  },
  {
   "cell_type": "code",
   "execution_count": 51,
   "metadata": {},
   "outputs": [
    {
     "name": "stdout",
     "output_type": "stream",
     "text": [
      "SibSp\n",
      "0    0.345395\n",
      "1    0.535885\n",
      "2    0.464286\n",
      "3    0.250000\n",
      "4    0.166667\n",
      "5    0.000000\n",
      "8    0.000000\n",
      "Name: Survived, dtype: float64\n"
     ]
    },
    {
     "data": {
      "image/png": "[encoded data removed]",
      "text/plain": [
       "<matplotlib.figure.Figure at 0x196f3151550>"
      ]
     },
     "metadata": {},
     "output_type": "display_data"
    }
   ],
   "source": [
    "passengers.groupby(['SibSp']).mean().Survived.plot(kind='bar')\n",
    "plt.title(\"Survival based on number of siblings/spouse onboard\")\n",
    "plt.xlabel(\"Number of siblings/spouse onboard\")\n",
    "plt.ylabel(\"Probability of survival\")\n",
    "print(passengers.groupby(['SibSp']).mean().Survived)"
   ]
  },
  {
   "cell_type": "markdown",
   "metadata": {},
   "source": [
    "The mean survivability  of people with 1 sibling/spouse is the highest. People with 1 or 2 siblings/spouse have better chances of survival compared to people with no sibling/spouse. But, as the number of sibling/spouse increases beyond 2, the chances of survival decrease drastically."
   ]
  },
  {
   "cell_type": "markdown",
   "metadata": {
    "collapsed": true
   },
   "source": [
    "### Survival based on number of children/parents onboard"
   ]
  },
  {
   "cell_type": "code",
   "execution_count": 134,
   "metadata": {},
   "outputs": [
    {
     "name": "stdout",
     "output_type": "stream",
     "text": [
      "Parch\n",
      "0    0.343658\n",
      "1    0.550847\n",
      "2    0.500000\n",
      "3    0.600000\n",
      "4    0.000000\n",
      "5    0.200000\n",
      "6    0.000000\n",
      "Name: Survived, dtype: float64\n"
     ]
    },
    {
     "data": {
      "image/png": "[encoded data removed]",
      "text/plain": [
       "<matplotlib.figure.Figure at 0x196f51fd2b0>"
      ]
     },
     "metadata": {},
     "output_type": "display_data"
    }
   ],
   "source": [
    "passengers.groupby(['Parch']).mean().Survived.plot(kind='bar')\n",
    "plt.title(\"Survival based on number of children/parents onboard\")\n",
    "plt.xlabel(\"Number of children/parents onboard\")\n",
    "plt.ylabel(\"Probability of survival\")\n",
    "print(passengers.groupby(['Parch']).mean().Survived)"
   ]
  },
  {
   "cell_type": "markdown",
   "metadata": {},
   "source": [
    "The chance of survival of people having 1 to 3 children/parents is higher than those without children/parents. People with more than 3 children/parents have lesser chances of survival compared to all others."
   ]
  },
  {
   "cell_type": "markdown",
   "metadata": {},
   "source": [
    "### Survival based on number of relatives onboard"
   ]
  },
  {
   "cell_type": "code",
   "execution_count": 53,
   "metadata": {},
   "outputs": [
    {
     "name": "stdout",
     "output_type": "stream",
     "text": [
      "Relatives\n",
      "0     0.303538\n",
      "1     0.552795\n",
      "2     0.578431\n",
      "3     0.724138\n",
      "4     0.200000\n",
      "5     0.136364\n",
      "6     0.333333\n",
      "7     0.000000\n",
      "10    0.000000\n",
      "Name: Survived, dtype: float64\n"
     ]
    },
    {
     "data": {
      "image/png": "[encoded data removed]",
      "text/plain": [
       "<matplotlib.figure.Figure at 0x196f3157ac8>"
      ]
     },
     "metadata": {},
     "output_type": "display_data"
    }
   ],
   "source": [
    "passengers.groupby(['Relatives']).mean().Survived.plot(kind='bar')\n",
    "plt.title(\"Survival based on number of relatives onboard\")\n",
    "plt.xlabel(\"Number of relatives onboard\")\n",
    "plt.ylabel(\"Probability of survival\")\n",
    "print(passengers.groupby(['Relatives']).mean().Survived)"
   ]
  },
  {
   "cell_type": "markdown",
   "metadata": {},
   "source": [
    "The chance of survival keeps increasing up to 3 relatives and beyond this point, the chance of survival drops down. It is to be noted that mean survivability is higher for people with 6 relatives compared with people to no relatives aboard."
   ]
  },
  {
   "cell_type": "markdown",
   "metadata": {},
   "source": [
    "### AGE"
   ]
  },
  {
   "cell_type": "markdown",
   "metadata": {},
   "source": [
    "First let us create a database which does not have any missing entries for age. Then we can create 3 categories for age namely Child, Adult and Elderly. Age category is assigned based on the following criteria:\n",
    "\n",
    "Child: 0<=Age<=18  \n",
    "Adult: 18<Age<=60  \n",
    "Elderly: 60<Age<=120  "
   ]
  },
  {
   "cell_type": "code",
   "execution_count": 55,
   "metadata": {},
   "outputs": [
    {
     "data": {
      "text/html": [
       "<div>\n",
       "<style>\n",
       "    .dataframe thead tr:only-child th {\n",
       "        text-align: right;\n",
       "    }\n",
       "\n",
       "    .dataframe thead th {\n",
       "        text-align: left;\n",
       "    }\n",
       "\n",
       "    .dataframe tbody tr th {\n",
       "        vertical-align: top;\n",
       "    }\n",
       "</style>\n",
       "<table border=\"1\" class=\"dataframe\">\n",
       "  <thead>\n",
       "    <tr style=\"text-align: right;\">\n",
       "      <th></th>\n",
       "      <th>PassengerId</th>\n",
       "      <th>Survived</th>\n",
       "      <th>Pclass</th>\n",
       "      <th>Name</th>\n",
       "      <th>Sex</th>\n",
       "      <th>Age</th>\n",
       "      <th>SibSp</th>\n",
       "      <th>Parch</th>\n",
       "      <th>Fare</th>\n",
       "      <th>Embarked</th>\n",
       "      <th>Survival</th>\n",
       "      <th>Class</th>\n",
       "      <th>Ports</th>\n",
       "      <th>Relatives</th>\n",
       "      <th>Age_Category</th>\n",
       "    </tr>\n",
       "  </thead>\n",
       "  <tbody>\n",
       "    <tr>\n",
       "      <th>0</th>\n",
       "      <td>1</td>\n",
       "      <td>0</td>\n",
       "      <td>3</td>\n",
       "      <td>Braund, Mr. Owen Harris</td>\n",
       "      <td>male</td>\n",
       "      <td>22.0</td>\n",
       "      <td>1</td>\n",
       "      <td>0</td>\n",
       "      <td>7.2500</td>\n",
       "      <td>S</td>\n",
       "      <td>Died</td>\n",
       "      <td>Third Class</td>\n",
       "      <td>Southampton</td>\n",
       "      <td>1</td>\n",
       "      <td>Adult</td>\n",
       "    </tr>\n",
       "    <tr>\n",
       "      <th>1</th>\n",
       "      <td>2</td>\n",
       "      <td>1</td>\n",
       "      <td>1</td>\n",
       "      <td>Cumings, Mrs. John Bradley (Florence Briggs Th...</td>\n",
       "      <td>female</td>\n",
       "      <td>38.0</td>\n",
       "      <td>1</td>\n",
       "      <td>0</td>\n",
       "      <td>71.2833</td>\n",
       "      <td>C</td>\n",
       "      <td>Survived</td>\n",
       "      <td>First Class</td>\n",
       "      <td>Cherbourg</td>\n",
       "      <td>1</td>\n",
       "      <td>Adult</td>\n",
       "    </tr>\n",
       "    <tr>\n",
       "      <th>2</th>\n",
       "      <td>3</td>\n",
       "      <td>1</td>\n",
       "      <td>3</td>\n",
       "      <td>Heikkinen, Miss. Laina</td>\n",
       "      <td>female</td>\n",
       "      <td>26.0</td>\n",
       "      <td>0</td>\n",
       "      <td>0</td>\n",
       "      <td>7.9250</td>\n",
       "      <td>S</td>\n",
       "      <td>Survived</td>\n",
       "      <td>Third Class</td>\n",
       "      <td>Southampton</td>\n",
       "      <td>0</td>\n",
       "      <td>Adult</td>\n",
       "    </tr>\n",
       "    <tr>\n",
       "      <th>3</th>\n",
       "      <td>4</td>\n",
       "      <td>1</td>\n",
       "      <td>1</td>\n",
       "      <td>Futrelle, Mrs. Jacques Heath (Lily May Peel)</td>\n",
       "      <td>female</td>\n",
       "      <td>35.0</td>\n",
       "      <td>1</td>\n",
       "      <td>0</td>\n",
       "      <td>53.1000</td>\n",
       "      <td>S</td>\n",
       "      <td>Survived</td>\n",
       "      <td>First Class</td>\n",
       "      <td>Southampton</td>\n",
       "      <td>1</td>\n",
       "      <td>Adult</td>\n",
       "    </tr>\n",
       "    <tr>\n",
       "      <th>4</th>\n",
       "      <td>5</td>\n",
       "      <td>0</td>\n",
       "      <td>3</td>\n",
       "      <td>Allen, Mr. William Henry</td>\n",
       "      <td>male</td>\n",
       "      <td>35.0</td>\n",
       "      <td>0</td>\n",
       "      <td>0</td>\n",
       "      <td>8.0500</td>\n",
       "      <td>S</td>\n",
       "      <td>Died</td>\n",
       "      <td>Third Class</td>\n",
       "      <td>Southampton</td>\n",
       "      <td>0</td>\n",
       "      <td>Adult</td>\n",
       "    </tr>\n",
       "  </tbody>\n",
       "</table>\n",
       "</div>"
      ],
      "text/plain": [
       "   PassengerId  Survived  Pclass  \\\n",
       "0            1         0       3   \n",
       "1            2         1       1   \n",
       "2            3         1       3   \n",
       "3            4         1       1   \n",
       "4            5         0       3   \n",
       "\n",
       "                                                Name     Sex   Age  SibSp  \\\n",
       "0                            Braund, Mr. Owen Harris    male  22.0      1   \n",
       "1  Cumings, Mrs. John Bradley (Florence Briggs Th...  female  38.0      1   \n",
       "2                             Heikkinen, Miss. Laina  female  26.0      0   \n",
       "3       Futrelle, Mrs. Jacques Heath (Lily May Peel)  female  35.0      1   \n",
       "4                           Allen, Mr. William Henry    male  35.0      0   \n",
       "\n",
       "   Parch     Fare Embarked  Survival        Class        Ports  Relatives  \\\n",
       "0      0   7.2500        S      Died  Third Class  Southampton          1   \n",
       "1      0  71.2833        C  Survived  First Class    Cherbourg          1   \n",
       "2      0   7.9250        S  Survived  Third Class  Southampton          0   \n",
       "3      0  53.1000        S  Survived  First Class  Southampton          1   \n",
       "4      0   8.0500        S      Died  Third Class  Southampton          0   \n",
       "\n",
       "  Age_Category  \n",
       "0        Adult  \n",
       "1        Adult  \n",
       "2        Adult  \n",
       "3        Adult  \n",
       "4        Adult  "
      ]
     },
     "execution_count": 55,
     "metadata": {},
     "output_type": "execute_result"
    }
   ],
   "source": [
    "#Dataframe which doesn't have any missing age entries \n",
    "ex_null_age = passengers[passengers['Age'].notnull()].copy()\n",
    "\n",
    "#Creating 3 categories for age\n",
    "def cutDF(df):\n",
    "    return pd.cut(df,[0, 16, 60, 120], labels=['Child','Adult','Elderly'])\n",
    "\n",
    "ex_null_age['Age_Category'] = ex_null_age[['Age']].apply(cutDF)\n",
    "ex_null_age.head()"
   ]
  },
  {
   "cell_type": "code",
   "execution_count": 56,
   "metadata": {},
   "outputs": [
    {
     "data": {
      "text/plain": [
       "714"
      ]
     },
     "execution_count": 56,
     "metadata": {},
     "output_type": "execute_result"
    }
   ],
   "source": [
    "#Length of dataframe after removal of missing age entries\n",
    "len(ex_null_age['Age_Category'])"
   ]
  },
  {
   "cell_type": "markdown",
   "metadata": {},
   "source": [
    "### Percentage of people belonging to different age groups"
   ]
  },
  {
   "cell_type": "code",
   "execution_count": 137,
   "metadata": {},
   "outputs": [
    {
     "name": "stdout",
     "output_type": "stream",
     "text": [
      "Adult      82.913165\n",
      "Child      14.005602\n",
      "Elderly     3.081232\n",
      "Name: Age_Category, dtype: float64\n"
     ]
    },
    {
     "data": {
      "text/plain": [
       "(-1.1044549908757766,\n",
       " 1.1055109124380669,\n",
       " -1.1015807354157736,\n",
       " 1.109787284760914)"
      ]
     },
     "execution_count": 137,
     "metadata": {},
     "output_type": "execute_result"
    },
    {
     "data": {
      "image/png": "[encoded data removed]",
      "text/plain": [
       "<matplotlib.figure.Figure at 0x196f6610470>"
      ]
     },
     "metadata": {},
     "output_type": "display_data"
    }
   ],
   "source": [
    "age_percentage = (ex_null_age['Age_Category'].value_counts()/714)*100\n",
    "print(age_percentage)\n",
    "\n",
    "colors = ['gold','yellowgreen','lightcoral']\n",
    "explode = [0,0,0]\n",
    "labels = ['Adult','Child','Elderly']\n",
    "plt.pie(age_percentage, labels=labels, explode =  explode, colors = colors, \n",
    "        autopct='%1.1f%%', shadow='True', startangle = 140)\n",
    "plt.title(\"Percentage of people belonging to different age groups\")\n",
    "plt.axis('equal')"
   ]
  },
  {
   "cell_type": "markdown",
   "metadata": {},
   "source": [
    "We see that about 83% of the passengers belong to adult category and 14% belong to child category while only around 3% belong to the elderly category."
   ]
  },
  {
   "cell_type": "markdown",
   "metadata": {},
   "source": [
    "### Survival among people of different age groups"
   ]
  },
  {
   "cell_type": "code",
   "execution_count": 59,
   "metadata": {},
   "outputs": [
    {
     "data": {
      "text/plain": [
       "Age_Category\n",
       "Adult      0.388514\n",
       "Child      0.550000\n",
       "Elderly    0.227273\n",
       "Name: Survived, dtype: float64"
      ]
     },
     "execution_count": 59,
     "metadata": {},
     "output_type": "execute_result"
    },
    {
     "data": {
      "image/png": "[encoded data removed]",
      "text/plain": [
       "<matplotlib.figure.Figure at 0x196f3205d68>"
      ]
     },
     "metadata": {},
     "output_type": "display_data"
    }
   ],
   "source": [
    "ex_null_age.groupby(['Age_Category']).Survived.mean().plot(kind='barh')\n",
    "plt.title(\"Survival among people of different age groups\")\n",
    "plt.xlabel(\"Probability of survival\")\n",
    "plt.ylabel(\"Age Group\")\n",
    "ex_null_age.groupby(['Age_Category']).Survived.mean()"
   ]
  },
  {
   "cell_type": "markdown",
   "metadata": {},
   "source": [
    "We see that children have the highest chance of survival and the elders have the least chance of survival."
   ]
  },
  {
   "cell_type": "markdown",
   "metadata": {},
   "source": [
    "### Average age based on gender "
   ]
  },
  {
   "cell_type": "code",
   "execution_count": 139,
   "metadata": {
    "scrolled": true
   },
   "outputs": [
    {
     "data": {
      "text/plain": [
       "Sex\n",
       "female    27.915709\n",
       "male      30.726645\n",
       "Name: Age, dtype: float64"
      ]
     },
     "execution_count": 139,
     "metadata": {},
     "output_type": "execute_result"
    },
    {
     "data": {
      "image/png": "[encoded data removed]",
      "text/plain": [
       "<matplotlib.figure.Figure at 0x196f63198d0>"
      ]
     },
     "metadata": {},
     "output_type": "display_data"
    }
   ],
   "source": [
    "ex_null_age.groupby(['Sex']).Age.mean().plot(kind='barh')\n",
    "plt.title(\"Average age based on gender\")\n",
    "plt.xlabel(\"Average Age\")\n",
    "plt.ylabel(\"Gender\")\n",
    "ex_null_age.groupby(['Sex']).Age.mean()"
   ]
  },
  {
   "cell_type": "markdown",
   "metadata": {},
   "source": [
    "The average age of males is 2.8 years higher than the average age of females."
   ]
  },
  {
   "cell_type": "markdown",
   "metadata": {},
   "source": [
    "### Average number of relatives who travelled with people of different age groups"
   ]
  },
  {
   "cell_type": "code",
   "execution_count": 183,
   "metadata": {},
   "outputs": [
    {
     "data": {
      "text/plain": [
       "Age_Category\n",
       "Adult      0.665541\n",
       "Child      2.710000\n",
       "Elderly    0.409091\n",
       "Name: Relatives, dtype: float64"
      ]
     },
     "execution_count": 183,
     "metadata": {},
     "output_type": "execute_result"
    },
    {
     "data": {
      "image/png": "[encoded data removed]",
      "text/plain": [
       "<matplotlib.figure.Figure at 0x196f6ebfa20>"
      ]
     },
     "metadata": {},
     "output_type": "display_data"
    }
   ],
   "source": [
    "ex_null_age.groupby(['Age_Category']).Relatives.mean().plot(kind='barh',color=\"purple\", alpha=.65)\n",
    "plt.title(\"Average number of relatives with people of different age groups\")\n",
    "plt.xlabel(\"Average number of relatives\")\n",
    "plt.ylabel(\"Age Group\")\n",
    "ex_null_age.groupby(['Age_Category']).Relatives.mean()"
   ]
  },
  {
   "cell_type": "markdown",
   "metadata": {},
   "source": [
    "On an average, adults and elderly travel alone while children travel with 2 relatives."
   ]
  },
  {
   "cell_type": "markdown",
   "metadata": {},
   "source": [
    "### Average number of siblings/spouse who travelled with people of different age groups"
   ]
  },
  {
   "cell_type": "code",
   "execution_count": 182,
   "metadata": {},
   "outputs": [
    {
     "data": {
      "text/plain": [
       "Age_Category\n",
       "Adult      0.347973\n",
       "Child      1.570000\n",
       "Elderly    0.136364\n",
       "Name: SibSp, dtype: float64"
      ]
     },
     "execution_count": 182,
     "metadata": {},
     "output_type": "execute_result"
    },
    {
     "data": {
      "image/png": "[encoded data removed]",
      "text/plain": [
       "<matplotlib.figure.Figure at 0x196f4beeac8>"
      ]
     },
     "metadata": {},
     "output_type": "display_data"
    }
   ],
   "source": [
    "ex_null_age.groupby(['Age_Category']).SibSp.mean().plot(kind='barh',color=\"green\", alpha=.65)\n",
    "plt.title(\"Average number of siblings/spouse with people of different age groups\")\n",
    "plt.xlabel(\"Average number of siblings/spouse\")\n",
    "plt.ylabel(\"Age Group\")\n",
    "plt.xlim(0,1.6)\n",
    "ex_null_age.groupby(['Age_Category']).SibSp.mean()"
   ]
  },
  {
   "cell_type": "markdown",
   "metadata": {},
   "source": [
    "### Average number of parents/children who travelled with people of different age groups"
   ]
  },
  {
   "cell_type": "code",
   "execution_count": 181,
   "metadata": {},
   "outputs": [
    {
     "data": {
      "text/plain": [
       "Age_Category\n",
       "Adult      0.317568\n",
       "Child      1.140000\n",
       "Elderly    0.272727\n",
       "Name: Parch, dtype: float64"
      ]
     },
     "execution_count": 181,
     "metadata": {},
     "output_type": "execute_result"
    },
    {
     "data": {
      "image/png": "[encoded data removed]",
      "text/plain": [
       "<matplotlib.figure.Figure at 0x196f67f6828>"
      ]
     },
     "metadata": {},
     "output_type": "display_data"
    }
   ],
   "source": [
    "ex_null_age.groupby(['Age_Category']).Parch.mean().plot(kind='barh',color=\"red\", alpha=.65)\n",
    "plt.title(\"Average number of parents/children with people of different age groups\")\n",
    "plt.xlabel(\"Average number of parents/children\")\n",
    "plt.ylabel(\"Age Group\")\n",
    "plt.xlim(0,1.6)\n",
    "ex_null_age.groupby(['Age_Category']).Parch.mean()"
   ]
  },
  {
   "cell_type": "markdown",
   "metadata": {},
   "source": [
    "We note that the average number of parents/children travelling with the elderly is higher than that of siblings/spouse.\n",
    "The average number of siblings/spouse travelling with the children is higher than that of parents/children."
   ]
  },
  {
   "cell_type": "markdown",
   "metadata": {},
   "source": [
    "### Mean fare of people belonging to different age groups"
   ]
  },
  {
   "cell_type": "code",
   "execution_count": 174,
   "metadata": {},
   "outputs": [
    {
     "data": {
      "text/plain": [
       "Age_Category\n",
       "Adult      34.970994\n",
       "Child      31.588877\n",
       "Elderly    41.371214\n",
       "Name: Fare, dtype: float64"
      ]
     },
     "execution_count": 174,
     "metadata": {},
     "output_type": "execute_result"
    },
    {
     "data": {
      "image/png": "[encoded data removed]",
      "text/plain": [
       "<matplotlib.figure.Figure at 0x196f657a5f8>"
      ]
     },
     "metadata": {},
     "output_type": "display_data"
    }
   ],
   "source": [
    "ex_null_age.groupby(['Age_Category']).Fare.mean().plot(kind='barh')\n",
    "plt.title(\"Mean fare of different age groups\")\n",
    "plt.xlabel(\"Mean fare\")\n",
    "plt.ylabel(\"Age Group\")\n",
    "ex_null_age.groupby(['Age_Category']).Fare.mean()"
   ]
  },
  {
   "cell_type": "markdown",
   "metadata": {},
   "source": [
    "The mean fare paid by the elderly is higher than that of adults which in turn is higher than that paid for children."
   ]
  },
  {
   "cell_type": "markdown",
   "metadata": {},
   "source": [
    "### Average age of people from different classes"
   ]
  },
  {
   "cell_type": "code",
   "execution_count": 65,
   "metadata": {},
   "outputs": [
    {
     "data": {
      "text/plain": [
       "<matplotlib.text.Text at 0x196f3044d68>"
      ]
     },
     "execution_count": 65,
     "metadata": {},
     "output_type": "execute_result"
    },
    {
     "data": {
      "image/png": "[encoded data removed]",
      "text/plain": [
       "<matplotlib.figure.Figure at 0x196f2fb8be0>"
      ]
     },
     "metadata": {},
     "output_type": "display_data"
    }
   ],
   "source": [
    "ex_null_age.groupby(['Class']).Age.mean().plot(kind='bar')\n",
    "plt.title(\"Average age of people from different classes\")\n",
    "plt.xlabel(\"Class\")\n",
    "plt.ylabel(\"Average age\")"
   ]
  },
  {
   "cell_type": "markdown",
   "metadata": {},
   "source": [
    "We observe that the average age of a 1st class passenger is higher than that of 2nd class passenger which in turn is higher than that of 3rd class passenger."
   ]
  },
  {
   "cell_type": "markdown",
   "metadata": {},
   "source": [
    "### Number of people of different age groups in different classes"
   ]
  },
  {
   "cell_type": "code",
   "execution_count": 185,
   "metadata": {},
   "outputs": [
    {
     "name": "stdout",
     "output_type": "stream",
     "text": [
      "Age_Category  Adult  Child  Elderly\n",
      "Class                              \n",
      "First Class     163      9       14\n",
      "Second Class    149     21        3\n",
      "Third Class     280     70        5\n"
     ]
    },
    {
     "data": {
      "image/png": "[encoded data removed]",
      "text/plain": [
       "<matplotlib.figure.Figure at 0x196f6dc0e48>"
      ]
     },
     "metadata": {},
     "output_type": "display_data"
    }
   ],
   "source": [
    "agegroup_class=pd.crosstab(ex_null_age['Class'],ex_null_age['Age_Category'])\n",
    "ax=agegroup_class.plot.bar()\n",
    "ax.set(title='Number of people of different age groups in different classes',\n",
    "       xlabel='Age Group',\n",
    "       ylabel='Number of people',\n",
    "       ylim=[0,300])\n",
    "ax.set_xticklabels(ax.get_xmajorticklabels(), rotation=0);\n",
    "print(agegroup_class)"
   ]
  },
  {
   "cell_type": "markdown",
   "metadata": {},
   "source": [
    "In all 3 classes the number of adults is much higher than the number of children and elderly people. In first class, the number of elderly people is slightly higher than the number of children. But in second and third classes the number of children is higher than the number of elderly people.\n",
    "\n",
    "Among the 3 classes, maximum number of adults are in 3rd class, maximum number of children are also in 3rd class but maximum number of elderly are in 1st class. The number of adults in 1st class is higher than that of 2nd class while the number of children in 1st class is lower than that of 2nd class.\n",
    "The number of elderly in 3rd class is higher than that of 2nd class."
   ]
  },
  {
   "cell_type": "markdown",
   "metadata": {},
   "source": [
    "### Average fare based on age group and class"
   ]
  },
  {
   "cell_type": "code",
   "execution_count": 67,
   "metadata": {},
   "outputs": [
    {
     "data": {
      "text/plain": [
       "Age_Category  Class       \n",
       "Adult         First Class      88.963881\n",
       "              Second Class     20.861913\n",
       "              Third Class      11.047468\n",
       "Child         First Class     113.352778\n",
       "              Second Class     27.364486\n",
       "              Third Class      22.343693\n",
       "Elderly       First Class      59.969050\n",
       "              Second Class     10.500000\n",
       "              Third Class       7.820000\n",
       "Name: Fare, dtype: float64"
      ]
     },
     "execution_count": 67,
     "metadata": {},
     "output_type": "execute_result"
    },
    {
     "data": {
      "image/png": "[encoded data removed]",
      "text/plain": [
       "<matplotlib.figure.Figure at 0x196f351af60>"
      ]
     },
     "metadata": {},
     "output_type": "display_data"
    }
   ],
   "source": [
    "ex_null_age.groupby(['Age_Category','Class']).Fare.mean().plot(kind='bar')\n",
    "plt.title(\"Average fare based on age group and class\")\n",
    "plt.xlabel(\"Age group,Class\")\n",
    "plt.ylabel(\"Average fare\")\n",
    "ex_null_age.groupby(['Age_Category','Class']).Fare.mean()"
   ]
  },
  {
   "cell_type": "markdown",
   "metadata": {},
   "source": [
    "In all 3 age groups, mean fare of 1st class is higher than that of 2nd class which in turn is higher than that of 3rd class. In all 3 classes, the mean fare of children is maximum and that of elderly is minimum."
   ]
  },
  {
   "cell_type": "markdown",
   "metadata": {},
   "source": [
    "## Summary"
   ]
  },
  {
   "cell_type": "markdown",
   "metadata": {},
   "source": [
    "Only 38% of the people aboard the titanic survived. More number of males travelled in the ship compared to females. Most passengers in the ship were from third class. The difference between the percentage of males and females is much higher in 3rd class compared to the other 2 classes. About 60% of the people travelled alone. The percentage of passengers who travelled with siblings/spouse is higher than those who travelled with parents/children. In third class, the percentage of people travelling alone is much higher than that of first and second class. Most of the passengers have boarded at the Southampton port, some of them at Cherbourg port and few of them from Queenstown. The Southampton port is the most popular port among all 3 classes. Cherbourg port is most popular among first class and least popular among third class passengers. Queenstown port seems to be popular only among 3rd class passengers. The mean fare is higher for females. First class has the highest fare and third class has the lowest fare. All the people who did not pay any fare were males, travelled alone and were from Southampton port. The maximum number of people who travelled free of charge are from 2nd class and the minimum from 3rd class. About 73% of them are from 1st class or 2nd class. \n",
    "\n",
    "\n",
    "The chance of survival of females is significantly higher than that of males. This might be because of the 'woman and children first' policy. Higher the class, greater has been the chance of survival. People with 1 or 2 siblings/spouse have better chances of survival compared to people with no sibling/spouse. The chance of survival of people having 1 to 3 children/parents is higher than those without children/parents. About 83% of the passengers belong to adult category and 14% belong to child category while only about 3% belong to the elderly category. Children had maximum chance of survival while the elderly had the least chance of survival. The average age of males is slightly higher than that of females. The average number of children/parents travelling with the elderly is higher than that of siblings/spouse while in the case of children, the average number of siblings/spouse is higher. The mean fare is maximum for elderly and minimum for children. The average age is highest for first class and lowest for third class passengers. In all 3 classes the number of adults is much higher than the number of children and elderly people. In all 3 classes, the mean fare of children is highest and that of elderly is lowest."
   ]
  },
  {
   "cell_type": "markdown",
   "metadata": {
    "collapsed": true
   },
   "source": [
    "## Limitations"
   ]
  },
  {
   "cell_type": "markdown",
   "metadata": {},
   "source": [
    "• All calculations involving age as a parameter exclude entries missing the 'Age' value.\n",
    "\n",
    "• All calculations involving port of embarkation as a parameter exclude entries missing the 'Embarked' value.\n",
    "\n",
    "• Due to the inconsistent nature of the ticket column and huge amount of missing data in cabin column, both have been excluded from the analysis."
   ]
  },
  {
   "cell_type": "markdown",
   "metadata": {},
   "source": [
    "## References"
   ]
  },
  {
   "cell_type": "markdown",
   "metadata": {},
   "source": [
    "www.kaggle.com\n",
    "\n",
    "www.stackoverflow.com"
   ]
  }
 ],
 "metadata": {
  "kernelspec": {
   "display_name": "Python 3",
   "language": "python",
   "name": "python3"
  },
  "language_info": {
   "codemirror_mode": {
    "name": "ipython",
    "version": 3
   },
   "file_extension": ".py",
   "mimetype": "text/x-python",
   "name": "python",
   "nbconvert_exporter": "python",
   "pygments_lexer": "ipython3",
   "version": "3.6.1"
  }
 },
 "nbformat": 4,
 "nbformat_minor": 2
}
